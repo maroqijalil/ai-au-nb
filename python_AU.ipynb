{
  "nbformat": 4,
  "nbformat_minor": 0,
  "metadata": {
    "colab": {
      "name": "python_AU.ipynb",
      "provenance": [],
      "collapsed_sections": [],
      "authorship_tag": "ABX9TyMqf7kXhaxt51F8sjJCsgcY",
      "include_colab_link": true
    },
    "kernelspec": {
      "name": "python3",
      "display_name": "Python 3"
    }
  },
  "cells": [
    {
      "cell_type": "markdown",
      "metadata": {
        "id": "view-in-github",
        "colab_type": "text"
      },
      "source": [
        "<a href=\"https://colab.research.google.com/github/maroqijalil/ai-au-nb/blob/main/python_AU.ipynb\" target=\"_parent\"><img src=\"https://colab.research.google.com/assets/colab-badge.svg\" alt=\"Open In Colab\"/></a>"
      ]
    },
    {
      "cell_type": "code",
      "metadata": {
        "colab": {
          "base_uri": "https://localhost:8080/"
        },
        "id": "7wDlGx1hLr7_",
        "outputId": "33daa69b-b747-476b-9eeb-c8b16fe9a934"
      },
      "source": [
        "print(\"s\");"
      ],
      "execution_count": null,
      "outputs": [
        {
          "output_type": "stream",
          "text": [
            "s\n"
          ],
          "name": "stdout"
        }
      ]
    },
    {
      "cell_type": "code",
      "metadata": {
        "colab": {
          "base_uri": "https://localhost:8080/"
        },
        "id": "1XtMvzilNFSx",
        "outputId": "93ca3e58-7888-4b0c-99b3-f7b401544818"
      },
      "source": [
        "yuhu = [\"sss\", 2, 'a']\n",
        "print(yuhu[2])\n",
        "yuhu[0]=2\n",
        "print(yuhu)"
      ],
      "execution_count": null,
      "outputs": [
        {
          "output_type": "stream",
          "text": [
            "a\n",
            "2\n"
          ],
          "name": "stdout"
        }
      ]
    },
    {
      "cell_type": "code",
      "metadata": {
        "colab": {
          "base_uri": "https://localhost:8080/",
          "height": 231
        },
        "id": "vnNyQrorOC1U",
        "outputId": "2a273e6e-0e32-43d0-9841-f4f7877b8450"
      },
      "source": [
        "tule=('ss', 2222, 2.000)\n",
        "print(tule[2])\n",
        "tule[1]=\"jalil\"\n",
        "print(tule[1])"
      ],
      "execution_count": null,
      "outputs": [
        {
          "output_type": "stream",
          "text": [
            "2.0\n"
          ],
          "name": "stdout"
        },
        {
          "output_type": "error",
          "ename": "TypeError",
          "evalue": "ignored",
          "traceback": [
            "\u001b[0;31m---------------------------------------------------------------------------\u001b[0m",
            "\u001b[0;31mTypeError\u001b[0m                                 Traceback (most recent call last)",
            "\u001b[0;32m<ipython-input-7-99ea0ecc9106>\u001b[0m in \u001b[0;36m<module>\u001b[0;34m()\u001b[0m\n\u001b[1;32m      1\u001b[0m \u001b[0mtule\u001b[0m\u001b[0;34m=\u001b[0m\u001b[0;34m(\u001b[0m\u001b[0;34m'ss'\u001b[0m\u001b[0;34m,\u001b[0m \u001b[0;36m2222\u001b[0m\u001b[0;34m,\u001b[0m \u001b[0;36m2.000\u001b[0m\u001b[0;34m)\u001b[0m\u001b[0;34m\u001b[0m\u001b[0;34m\u001b[0m\u001b[0m\n\u001b[1;32m      2\u001b[0m \u001b[0mprint\u001b[0m\u001b[0;34m(\u001b[0m\u001b[0mtule\u001b[0m\u001b[0;34m[\u001b[0m\u001b[0;36m2\u001b[0m\u001b[0;34m]\u001b[0m\u001b[0;34m)\u001b[0m\u001b[0;34m\u001b[0m\u001b[0;34m\u001b[0m\u001b[0m\n\u001b[0;32m----> 3\u001b[0;31m \u001b[0mtule\u001b[0m\u001b[0;34m[\u001b[0m\u001b[0;36m1\u001b[0m\u001b[0;34m]\u001b[0m\u001b[0;34m=\u001b[0m\u001b[0;34m\"jalil\"\u001b[0m\u001b[0;34m\u001b[0m\u001b[0;34m\u001b[0m\u001b[0m\n\u001b[0m\u001b[1;32m      4\u001b[0m \u001b[0mprint\u001b[0m\u001b[0;34m(\u001b[0m\u001b[0mtule\u001b[0m\u001b[0;34m[\u001b[0m\u001b[0;36m1\u001b[0m\u001b[0;34m]\u001b[0m\u001b[0;34m)\u001b[0m\u001b[0;34m\u001b[0m\u001b[0;34m\u001b[0m\u001b[0m\n",
            "\u001b[0;31mTypeError\u001b[0m: 'tuple' object does not support item assignment"
          ]
        }
      ]
    },
    {
      "cell_type": "code",
      "metadata": {
        "colab": {
          "base_uri": "https://localhost:8080/"
        },
        "id": "1mmYwEEVOap1",
        "outputId": "c75ab93e-b4ea-4051-a89a-24a4efebc0dc"
      },
      "source": [
        "x=2\n",
        "y='ss'\n",
        "z=\"aa\"\n",
        "a=2.0\n",
        "b=2j\n",
        "print(type(x))\n",
        "print(type(y))\n",
        "print(type(z))\n",
        "print(type(a))\n",
        "print(type(b))"
      ],
      "execution_count": null,
      "outputs": [
        {
          "output_type": "stream",
          "text": [
            "<class 'int'>\n",
            "<class 'str'>\n",
            "<class 'str'>\n",
            "<class 'float'>\n",
            "<class 'complex'>\n"
          ],
          "name": "stdout"
        }
      ]
    },
    {
      "cell_type": "code",
      "metadata": {
        "id": "A9V-boDqPA_s",
        "colab": {
          "base_uri": "https://localhost:8080/"
        },
        "outputId": "ea160c75-a41b-4c37-fa9b-a746a12644a3"
      },
      "source": [
        "x=[\"a\"]\n",
        "y=('ss', 2)\n",
        "z={\"aa\", 2}\n",
        "a={2.0 : \"s\", 's' : \"sss\"}\n",
        "b=range(100)\n",
        "print(type(x))\n",
        "print(type(y))\n",
        "print(type(z))\n",
        "print(type(a))\n",
        "print(type(b))"
      ],
      "execution_count": null,
      "outputs": [
        {
          "output_type": "stream",
          "text": [
            "<class 'list'>\n",
            "<class 'tuple'>\n",
            "<class 'set'>\n",
            "<class 'dict'>\n",
            "<class 'range'>\n"
          ],
          "name": "stdout"
        }
      ]
    },
    {
      "cell_type": "code",
      "metadata": {
        "colab": {
          "base_uri": "https://localhost:8080/"
        },
        "id": "9YAIlwI5Q4oG",
        "outputId": "c7af7a7e-3f17-4080-cdab-8cd8def18259"
      },
      "source": [
        "x=[\"a\"]\n",
        "y=('ss', 2)\n",
        "z={\"aa\", 2}\n",
        "a={2.0 : \"s\", 's' : \"sss\"}\n",
        "b=range(100)\n",
        "print(x)\n",
        "print(y)\n",
        "print(z)\n",
        "print(a)\n",
        "print(b)"
      ],
      "execution_count": null,
      "outputs": [
        {
          "output_type": "stream",
          "text": [
            "['a']\n",
            "('ss', 2)\n",
            "{2, 'aa'}\n",
            "{2.0: 's', 's': 'sss'}\n",
            "range(0, 100)\n"
          ],
          "name": "stdout"
        }
      ]
    },
    {
      "cell_type": "code",
      "metadata": {
        "colab": {
          "base_uri": "https://localhost:8080/"
        },
        "id": "iUUx3axKS5OZ",
        "outputId": "051d053d-124d-441c-c4a4-93392681c816"
      },
      "source": [
        "x=[2,3,4,1,\"sassd\",\"sdasd\"]\n",
        "print(x[2:5])"
      ],
      "execution_count": null,
      "outputs": [
        {
          "output_type": "stream",
          "text": [
            "[4, 1, 'sassd']\n"
          ],
          "name": "stdout"
        }
      ]
    },
    {
      "cell_type": "code",
      "metadata": {
        "colab": {
          "base_uri": "https://localhost:8080/"
        },
        "id": "Tiwlo1_TUqmt",
        "outputId": "02e7947f-9d9a-456b-88ff-8320e1d80779"
      },
      "source": [
        "x=[2,3,4,1,\"sassd\",\"sdasd\"]\n",
        "x.append(\"s\")\n",
        "print(x)\n",
        "x.insert(2, \"aaa\")\n",
        "print(x)\n",
        "x.remove(\"s\")\n",
        "print(x)"
      ],
      "execution_count": null,
      "outputs": [
        {
          "output_type": "stream",
          "text": [
            "[2, 3, 4, 1, 'sassd', 'sdasd', 's']\n",
            "[2, 3, 'aaa', 4, 1, 'sassd', 'sdasd', 's']\n",
            "[2, 3, 'aaa', 4, 1, 'sassd', 'sdasd']\n"
          ],
          "name": "stdout"
        }
      ]
    },
    {
      "cell_type": "code",
      "metadata": {
        "colab": {
          "base_uri": "https://localhost:8080/"
        },
        "id": "Qqe8gf3WS5ha",
        "outputId": "5e7bc466-6b57-43c0-d2c6-3d8e58ad3897"
      },
      "source": [
        "a={2.0 : \"s\", 's' : \"sss\"}\n",
        "b=range(100)\n",
        "print(len(b))"
      ],
      "execution_count": null,
      "outputs": [
        {
          "output_type": "stream",
          "text": [
            "100\n"
          ],
          "name": "stdout"
        }
      ]
    },
    {
      "cell_type": "code",
      "metadata": {
        "colab": {
          "base_uri": "https://localhost:8080/"
        },
        "id": "5ryl5HwQUErn",
        "outputId": "4084654b-6010-4bd1-95b9-e47716743827"
      },
      "source": [
        "a={2.0 : \"s\", 's' : \"sss\"}\n",
        "b=range(100)\n",
        "for i in a:\n",
        "  print(i)"
      ],
      "execution_count": null,
      "outputs": [
        {
          "output_type": "stream",
          "text": [
            "2.0\n",
            "s\n"
          ],
          "name": "stdout"
        }
      ]
    },
    {
      "cell_type": "code",
      "metadata": {
        "colab": {
          "base_uri": "https://localhost:8080/"
        },
        "id": "J_mhj-I2WjZr",
        "outputId": "ede5ae30-e1bb-4b21-f5a5-b9e4bfbb299b"
      },
      "source": [
        "a=2\n",
        "b=3\n",
        "if (a<b):\n",
        "  print(\"jajal\")"
      ],
      "execution_count": null,
      "outputs": [
        {
          "output_type": "stream",
          "text": [
            "jajal\n"
          ],
          "name": "stdout"
        }
      ]
    },
    {
      "cell_type": "code",
      "metadata": {
        "colab": {
          "base_uri": "https://localhost:8080/"
        },
        "id": "Ubiod6KKW4H2",
        "outputId": "d7f02647-ba9c-4e08-c03b-53236b9c8d1c"
      },
      "source": [
        "a=3\n",
        "b=3\n",
        "if (a<b):\n",
        "  print(\"jajal\")\n",
        "elif (a==b):\n",
        "  print(\"dua\")"
      ],
      "execution_count": null,
      "outputs": [
        {
          "output_type": "stream",
          "text": [
            "dua\n"
          ],
          "name": "stdout"
        }
      ]
    },
    {
      "cell_type": "code",
      "metadata": {
        "colab": {
          "base_uri": "https://localhost:8080/",
          "height": 231
        },
        "id": "HNBu3gjcXfPY",
        "outputId": "e48b2a76-2475-4682-ca21-2013a25bb01e"
      },
      "source": [
        "x={'x':103, 'y':29082}\n",
        "for i in x:\n",
        "  if i%2 == 0:\n",
        "    print(\"Y\")\n",
        "  else:\n",
        "    print(\"N\")"
      ],
      "execution_count": null,
      "outputs": [
        {
          "output_type": "error",
          "ename": "TypeError",
          "evalue": "ignored",
          "traceback": [
            "\u001b[0;31m---------------------------------------------------------------------------\u001b[0m",
            "\u001b[0;31mTypeError\u001b[0m                                 Traceback (most recent call last)",
            "\u001b[0;32m<ipython-input-24-600a6fe52d2e>\u001b[0m in \u001b[0;36m<module>\u001b[0;34m()\u001b[0m\n\u001b[1;32m      1\u001b[0m \u001b[0mx\u001b[0m\u001b[0;34m=\u001b[0m\u001b[0;34m{\u001b[0m\u001b[0;34m'x'\u001b[0m\u001b[0;34m:\u001b[0m\u001b[0;36m103\u001b[0m\u001b[0;34m,\u001b[0m \u001b[0;34m'y'\u001b[0m\u001b[0;34m:\u001b[0m\u001b[0;36m29082\u001b[0m\u001b[0;34m}\u001b[0m\u001b[0;34m\u001b[0m\u001b[0;34m\u001b[0m\u001b[0m\n\u001b[1;32m      2\u001b[0m \u001b[0;32mfor\u001b[0m \u001b[0mi\u001b[0m \u001b[0;32min\u001b[0m \u001b[0mx\u001b[0m\u001b[0;34m:\u001b[0m\u001b[0;34m\u001b[0m\u001b[0;34m\u001b[0m\u001b[0m\n\u001b[0;32m----> 3\u001b[0;31m   \u001b[0;32mif\u001b[0m \u001b[0mi\u001b[0m\u001b[0;34m%\u001b[0m\u001b[0;36m2\u001b[0m \u001b[0;34m==\u001b[0m \u001b[0;36m0\u001b[0m\u001b[0;34m:\u001b[0m\u001b[0;34m\u001b[0m\u001b[0;34m\u001b[0m\u001b[0m\n\u001b[0m\u001b[1;32m      4\u001b[0m     \u001b[0mprint\u001b[0m\u001b[0;34m(\u001b[0m\u001b[0;34m\"Y\"\u001b[0m\u001b[0;34m)\u001b[0m\u001b[0;34m\u001b[0m\u001b[0;34m\u001b[0m\u001b[0m\n\u001b[1;32m      5\u001b[0m   \u001b[0;32melse\u001b[0m\u001b[0;34m:\u001b[0m\u001b[0;34m\u001b[0m\u001b[0;34m\u001b[0m\u001b[0m\n",
            "\u001b[0;31mTypeError\u001b[0m: not all arguments converted during string formatting"
          ]
        }
      ]
    },
    {
      "cell_type": "code",
      "metadata": {
        "colab": {
          "base_uri": "https://localhost:8080/"
        },
        "id": "qxWHenVuYKKX",
        "outputId": "7e6b11e5-4a6b-4a08-e8c7-effa0b1b1440"
      },
      "source": [
        "x={'x':103, 'y':29082}\n",
        "for k, v in x.items():\n",
        "  if v%2 == 0:\n",
        "    print(\"Y\", end='')\n",
        "  else:\n",
        "    print(\"N\", end='')"
      ],
      "execution_count": null,
      "outputs": [
        {
          "output_type": "stream",
          "text": [
            "NY"
          ],
          "name": "stdout"
        }
      ]
    },
    {
      "cell_type": "code",
      "metadata": {
        "colab": {
          "base_uri": "https://localhost:8080/"
        },
        "id": "EBoVO5mHYTXC",
        "outputId": "0392137e-2f08-4a2f-8925-794a4c94b12b"
      },
      "source": [
        "x={'x':378, 'y':872}\n",
        "for k, v in x.items():\n",
        "  if v%2 == 0:\n",
        "    print(\"Y\", end='')\n",
        "  else:\n",
        "    print(\"N\", end='')"
      ],
      "execution_count": null,
      "outputs": [
        {
          "output_type": "stream",
          "text": [
            "YY"
          ],
          "name": "stdout"
        }
      ]
    },
    {
      "cell_type": "code",
      "metadata": {
        "colab": {
          "base_uri": "https://localhost:8080/"
        },
        "id": "uf04EvFmZdUc",
        "outputId": "99dce829-a6f0-44f2-89b2-33ade4ee0df4"
      },
      "source": [
        "in1=int(input('Masukkan angka: '))\n",
        "in2=int(input('Masukkan angka: '))\n",
        "x={'x':in1, 'y':in2}\n",
        "for k, v in x.items():\n",
        "  if v%2 == 0:\n",
        "    print(\"Y\", end='')\n",
        "  else:\n",
        "    print(\"N\", end='')"
      ],
      "execution_count": null,
      "outputs": [
        {
          "output_type": "stream",
          "text": [
            "Masukkan angka: 1\n",
            "Masukkan angka: 2\n",
            "NY"
          ],
          "name": "stdout"
        }
      ]
    },
    {
      "cell_type": "code",
      "metadata": {
        "colab": {
          "base_uri": "https://localhost:8080/"
        },
        "id": "T9FN8qWta2iA",
        "outputId": "b1f84e5a-0c98-426d-bf71-a599824a6488"
      },
      "source": [
        "ran=range(2, 30, 3)\n",
        "for i in ran:\n",
        "  print(i)"
      ],
      "execution_count": null,
      "outputs": [
        {
          "output_type": "stream",
          "text": [
            "2\n",
            "5\n",
            "8\n",
            "11\n",
            "14\n",
            "17\n",
            "20\n",
            "23\n",
            "26\n",
            "29\n"
          ],
          "name": "stdout"
        }
      ]
    },
    {
      "cell_type": "code",
      "metadata": {
        "colab": {
          "base_uri": "https://localhost:8080/"
        },
        "id": "qG9NhVXLbind",
        "outputId": "3f174816-97d8-4f56-bf3a-ae26c90d4fb4"
      },
      "source": [
        "ran=range(2, 30, 3)\n",
        "i=0\n",
        "while i < 3:\n",
        "  print(ran[i])\n",
        "  i+=1"
      ],
      "execution_count": null,
      "outputs": [
        {
          "output_type": "stream",
          "text": [
            "2\n",
            "5\n",
            "8\n"
          ],
          "name": "stdout"
        }
      ]
    },
    {
      "cell_type": "code",
      "metadata": {
        "colab": {
          "base_uri": "https://localhost:8080/"
        },
        "id": "MaDvCD4uc1PO",
        "outputId": "158b437f-623d-41a6-8030-ed77ea027d83"
      },
      "source": [
        "list=[1,2,3,4,5,6,7,8,9]\n",
        "nlist=[]\n",
        "for i in list:\n",
        "  if i%2 != 0:\n",
        "    nlist.append(i)\n",
        "print(list, end='')\n",
        "print(' -> ', end='')\n",
        "print(nlist)"
      ],
      "execution_count": null,
      "outputs": [
        {
          "output_type": "stream",
          "text": [
            "[1, 2, 3, 4, 5, 6, 7, 8, 9] -> [1, 3, 5, 7, 9]\n"
          ],
          "name": "stdout"
        }
      ]
    },
    {
      "cell_type": "code",
      "metadata": {
        "colab": {
          "base_uri": "https://localhost:8080/"
        },
        "id": "K3Z1JYvmfSr8",
        "outputId": "83c8f019-dfdf-4187-cc72-784e9d226d59"
      },
      "source": [
        "def func():\n",
        "  print(\"mas\")\n",
        "\n",
        "func()"
      ],
      "execution_count": null,
      "outputs": [
        {
          "output_type": "stream",
          "text": [
            "mas\n"
          ],
          "name": "stdout"
        }
      ]
    },
    {
      "cell_type": "code",
      "metadata": {
        "colab": {
          "base_uri": "https://localhost:8080/"
        },
        "id": "xo2lr0MYf6CS",
        "outputId": "87781686-f1ce-4c02-e5d6-e19b209e2102"
      },
      "source": [
        "def bagi(x, y):\n",
        "  return x/y\n",
        "\n",
        "print(bagi(2, 3))"
      ],
      "execution_count": null,
      "outputs": [
        {
          "output_type": "stream",
          "text": [
            "0.6666666666666666\n"
          ],
          "name": "stdout"
        }
      ]
    },
    {
      "cell_type": "code",
      "metadata": {
        "colab": {
          "base_uri": "https://localhost:8080/"
        },
        "id": "qUv8d3N0gtaW",
        "outputId": "3e026285-06c1-4dfb-bd7d-18f4202dc2bf"
      },
      "source": [
        "def printt(x, y):\n",
        "  list=[x, y]\n",
        "  for v in list:\n",
        "    if v%2 == 0:\n",
        "      print(\"Y\", end='')\n",
        "    else:\n",
        "      print(\"N\", end='')\n",
        "\n",
        "printt(103, 29802)"
      ],
      "execution_count": null,
      "outputs": [
        {
          "output_type": "stream",
          "text": [
            "NY"
          ],
          "name": "stdout"
        }
      ]
    },
    {
      "cell_type": "code",
      "metadata": {
        "colab": {
          "base_uri": "https://localhost:8080/"
        },
        "id": "kX2EHRd-i-8V",
        "outputId": "5337a34d-ee97-4cb5-96b1-a669de1a30f5"
      },
      "source": [
        "def inputt():\n",
        "  return int(input('Masukkan angka: '))\n",
        "def printt(x, y):\n",
        "  list=[x, y]\n",
        "  for v in list:\n",
        "    if v%2 == 0:\n",
        "      print(\"Y\", end='')\n",
        "    else:\n",
        "      print(\"N\", end='')\n",
        "\n",
        "printt(inputt(), inputt())"
      ],
      "execution_count": null,
      "outputs": [
        {
          "output_type": "stream",
          "text": [
            "Masukkan angka: 2\n",
            "Masukkan angka: 4\n",
            "YY"
          ],
          "name": "stdout"
        }
      ]
    },
    {
      "cell_type": "code",
      "metadata": {
        "colab": {
          "base_uri": "https://localhost:8080/",
          "height": 129
        },
        "id": "EU6XEERxma6H",
        "outputId": "8892955d-5b42-4a50-c614-f75b5df98651"
      },
      "source": [
        "from google.colab import drive\n",
        "drive.mount('/content/drive')\n",
        "import sys\n",
        "sys.path.insert(0,’/content/drive/My Drive/ColabNotebooks’)\n",
        "\n",
        "import Coba-coba_pythonmodules_AU\n",
        "\n",
        "list=[1,2,3,4,5,6,7,8,9]\n",
        "print(randomList(list))"
      ],
      "execution_count": null,
      "outputs": [
        {
          "output_type": "error",
          "ename": "SyntaxError",
          "evalue": "ignored",
          "traceback": [
            "\u001b[0;36m  File \u001b[0;32m\"<ipython-input-45-54685dd701b3>\"\u001b[0;36m, line \u001b[0;32m4\u001b[0m\n\u001b[0;31m    sys.path.insert(0,’/content/drive/My Drive/ColabNotebooks’)\u001b[0m\n\u001b[0m                      ^\u001b[0m\n\u001b[0;31mSyntaxError\u001b[0m\u001b[0;31m:\u001b[0m invalid character in identifier\n"
          ]
        }
      ]
    },
    {
      "cell_type": "markdown",
      "metadata": {
        "id": "6wbaUGfKnRPX"
      },
      "source": [
        "# Bagian Baru"
      ]
    }
  ]
}