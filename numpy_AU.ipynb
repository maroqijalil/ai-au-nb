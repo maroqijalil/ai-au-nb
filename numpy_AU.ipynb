{
  "nbformat": 4,
  "nbformat_minor": 0,
  "metadata": {
    "colab": {
      "name": "numpy_AU.ipynb",
      "provenance": [],
      "collapsed_sections": [],
      "authorship_tag": "ABX9TyO+VRpW0/vJyoO+AeI3UblW",
      "include_colab_link": true
    },
    "kernelspec": {
      "name": "python3",
      "display_name": "Python 3"
    }
  },
  "cells": [
    {
      "cell_type": "markdown",
      "metadata": {
        "id": "view-in-github",
        "colab_type": "text"
      },
      "source": [
        "<a href=\"https://colab.research.google.com/github/maroqijalil/ai-au-nb/blob/main/numpy_AU.ipynb\" target=\"_parent\"><img src=\"https://colab.research.google.com/assets/colab-badge.svg\" alt=\"Open In Colab\"/></a>"
      ]
    },
    {
      "cell_type": "code",
      "metadata": {
        "colab": {
          "base_uri": "https://localhost:8080/"
        },
        "id": "TPDJR98yPpoh",
        "outputId": "c8d681e6-6e7e-4710-90c6-b71e80993af0"
      },
      "source": [
        "import numpy as np\n",
        "\n",
        "a=np.array((1,2,3,4))\n",
        "print(a)"
      ],
      "execution_count": null,
      "outputs": [
        {
          "output_type": "stream",
          "text": [
            "[1 2 3 4]\n"
          ],
          "name": "stdout"
        }
      ]
    },
    {
      "cell_type": "code",
      "metadata": {
        "colab": {
          "base_uri": "https://localhost:8080/"
        },
        "id": "ApFuYlDsQFcN",
        "outputId": "11708428-f881-475f-bb7b-47bf7bf0a1d6"
      },
      "source": [
        "a=np.zeros(1)\n",
        "print(a)\n",
        "b=np.ones(10)\n",
        "print(b)"
      ],
      "execution_count": null,
      "outputs": [
        {
          "output_type": "stream",
          "text": [
            "[0.]\n",
            "[1. 1. 1. 1. 1. 1. 1. 1. 1. 1.]\n"
          ],
          "name": "stdout"
        }
      ]
    },
    {
      "cell_type": "code",
      "metadata": {
        "colab": {
          "base_uri": "https://localhost:8080/"
        },
        "id": "5i4BOnH7QWiY",
        "outputId": "682a4894-5f0e-4765-ac6a-d585ab7ebf47"
      },
      "source": [
        "arr=np.arange(1, 10, 2)\n",
        "print(arr)"
      ],
      "execution_count": null,
      "outputs": [
        {
          "output_type": "stream",
          "text": [
            "[1 3 5 7 9]\n"
          ],
          "name": "stdout"
        }
      ]
    },
    {
      "cell_type": "code",
      "metadata": {
        "colab": {
          "base_uri": "https://localhost:8080/"
        },
        "id": "OzI5dU1LQkws",
        "outputId": "d74a2ef1-e5ff-4671-f193-bd86965c062f"
      },
      "source": [
        "a=np.array([(12,33,2,13,4,44), (2,3,2,11,2,1)])\n",
        "print(a)\n",
        "print(len(a))\n",
        "print(len(a[0]))"
      ],
      "execution_count": null,
      "outputs": [
        {
          "output_type": "stream",
          "text": [
            "[[12 33  2 13  4 44]\n",
            " [ 2  3  2 11  2  1]]\n",
            "2\n",
            "6\n"
          ],
          "name": "stdout"
        }
      ]
    },
    {
      "cell_type": "code",
      "metadata": {
        "colab": {
          "base_uri": "https://localhost:8080/"
        },
        "id": "XbyGN34wRH1c",
        "outputId": "1cb3c2ba-f1c6-4e61-c4b5-4bd90f63d31c"
      },
      "source": [
        "a=np.linspace(0, 2, 11)\n",
        "print(a)"
      ],
      "execution_count": null,
      "outputs": [
        {
          "output_type": "stream",
          "text": [
            "[0.  0.2 0.4 0.6 0.8 1.  1.2 1.4 1.6 1.8 2. ]\n"
          ],
          "name": "stdout"
        }
      ]
    },
    {
      "cell_type": "code",
      "metadata": {
        "colab": {
          "base_uri": "https://localhost:8080/"
        },
        "id": "Gr6spwLmRsZG",
        "outputId": "7dd57c14-8394-4765-ad86-4b792983a198"
      },
      "source": [
        "a=np.array((1,2,3,4))\n",
        "print(a+1)\n",
        "print(a*2)"
      ],
      "execution_count": null,
      "outputs": [
        {
          "output_type": "stream",
          "text": [
            "[2 3 4 5]\n",
            "[2 4 6 8]\n"
          ],
          "name": "stdout"
        }
      ]
    },
    {
      "cell_type": "code",
      "metadata": {
        "colab": {
          "base_uri": "https://localhost:8080/"
        },
        "id": "ypRWHoBER2oO",
        "outputId": "6bae8b65-32a3-4f4e-f319-43ed88ef3f07"
      },
      "source": [
        "a=np.array((1,2,3,4))\n",
        "b=np.array((3,24,35,-2))\n",
        "print(a+b)\n",
        "print(a*b)\n",
        "print(np.sum(a))\n",
        "print(np.min(a))\n",
        "print(np.max(a))"
      ],
      "execution_count": null,
      "outputs": [
        {
          "output_type": "stream",
          "text": [
            "[ 4 26 38  2]\n",
            "[  3  48 105  -8]\n",
            "10\n",
            "1\n",
            "4\n"
          ],
          "name": "stdout"
        }
      ]
    },
    {
      "cell_type": "code",
      "metadata": {
        "colab": {
          "base_uri": "https://localhost:8080/"
        },
        "id": "vARcrmOQSqze",
        "outputId": "50bb72ac-b113-43a7-f660-afc7aec87a7e"
      },
      "source": [
        "a=np.array((1,2,3,4,3,24,35,-2))\n",
        "print(a.clip(2,8))\n",
        "b=np.array([(1,2,3,4,3,24,35,-2), (1,2,3,4)], dtype=object)\n",
        "print(b)\n",
        "print(b.shape)\n",
        "print(b.ndim)"
      ],
      "execution_count": null,
      "outputs": [
        {
          "output_type": "stream",
          "text": [
            "[2 2 3 4 3 8 8 2]\n",
            "[(1, 2, 3, 4, 3, 24, 35, -2) (1, 2, 3, 4)]\n",
            "(2,)\n",
            "1\n",
            "[1.3681231e-316 0.0000000e+000 0.0000000e+000 0.0000000e+000\n",
            " 0.0000000e+000]\n"
          ],
          "name": "stdout"
        }
      ]
    },
    {
      "cell_type": "code",
      "metadata": {
        "colab": {
          "base_uri": "https://localhost:8080/"
        },
        "id": "63bkmNA_UTIq",
        "outputId": "1abab3be-4570-4fc2-b048-dd1fca2617a0"
      },
      "source": [
        "print(np.empty(5))\n",
        "b=np.empty((5, 2))\n",
        "print(b)\n",
        "print(b.T)"
      ],
      "execution_count": null,
      "outputs": [
        {
          "output_type": "stream",
          "text": [
            "[1.3681231e-316 0.0000000e+000 0.0000000e+000 0.0000000e+000\n",
            " 0.0000000e+000]\n",
            "[[1. 1.]\n",
            " [1. 1.]\n",
            " [1. 1.]\n",
            " [1. 1.]\n",
            " [1. 1.]]\n",
            "[[1. 1. 1. 1. 1.]\n",
            " [1. 1. 1. 1. 1.]]\n"
          ],
          "name": "stdout"
        }
      ]
    },
    {
      "cell_type": "code",
      "metadata": {
        "colab": {
          "base_uri": "https://localhost:8080/"
        },
        "id": "ryASAOuTToUR",
        "outputId": "35cf6e0b-2c4c-4e60-a2c5-24b0a59360ce"
      },
      "source": [
        "# practice 1\n",
        "a=np.array([np.zeros(6), np.ones(6)], dtype=float)\n",
        "print(a)\n",
        "b=np.zeros((6, 7))\n",
        "print(b)\n",
        "x=np.array([(1,2), (3,4)])\n",
        "y=np.array([(5,6), (7,8)])\n",
        "dotXY=x.dot(y)\n",
        "print(dotXY)\n",
        "print(np.min(dotXY))\n",
        "print(np.max(dotXY))\n",
        "print(np.average(dotXY))\n",
        "print(np.mean(dotXY))"
      ],
      "execution_count": null,
      "outputs": [
        {
          "output_type": "stream",
          "text": [
            "[[0. 0. 0. 0. 0. 0.]\n",
            " [1. 1. 1. 1. 1. 1.]]\n",
            "[[0. 0. 0. 0. 0. 0. 0.]\n",
            " [0. 0. 0. 0. 0. 0. 0.]\n",
            " [0. 0. 0. 0. 0. 0. 0.]\n",
            " [0. 0. 0. 0. 0. 0. 0.]\n",
            " [0. 0. 0. 0. 0. 0. 0.]\n",
            " [0. 0. 0. 0. 0. 0. 0.]]\n",
            "[[19 22]\n",
            " [43 50]]\n",
            "19\n",
            "50\n",
            "33.5\n",
            "33.5\n"
          ],
          "name": "stdout"
        }
      ]
    }
  ]
}