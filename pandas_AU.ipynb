{
  "nbformat": 4,
  "nbformat_minor": 0,
  "metadata": {
    "colab": {
      "name": "pandas_AU.ipynb",
      "provenance": [],
      "collapsed_sections": [],
      "authorship_tag": "ABX9TyNNovxC37WUbmRqyy8RWHxw",
      "include_colab_link": true
    },
    "kernelspec": {
      "name": "python3",
      "display_name": "Python 3"
    }
  },
  "cells": [
    {
      "cell_type": "markdown",
      "metadata": {
        "id": "view-in-github",
        "colab_type": "text"
      },
      "source": [
        "<a href=\"https://colab.research.google.com/github/maroqijalil/ai-au-nb/blob/main/pandas_AU.ipynb\" target=\"_parent\"><img src=\"https://colab.research.google.com/assets/colab-badge.svg\" alt=\"Open In Colab\"/></a>"
      ]
    },
    {
      "cell_type": "code",
      "metadata": {
        "colab": {
          "base_uri": "https://localhost:8080/"
        },
        "id": "2GNhxap8plR8",
        "outputId": "04d32e5c-1dd6-4096-ab88-6ac84fd633a8"
      },
      "source": [
        "import pandas as pd\n",
        "\n",
        "s=pd.Series(data=range(1,5), index=list('abcd'))\n",
        "print(s.index)\n",
        "print(s.values)\n",
        "print(s)\n",
        "print(s['a':'c'])"
      ],
      "execution_count": null,
      "outputs": [
        {
          "output_type": "stream",
          "text": [
            "Index(['a', 'b', 'c', 'd'], dtype='object')\n",
            "[1 2 3 4]\n",
            "a    1\n",
            "b    2\n",
            "c    3\n",
            "d    4\n",
            "dtype: int64\n",
            "a    1\n",
            "b    2\n",
            "c    3\n",
            "dtype: int64\n"
          ],
          "name": "stdout"
        }
      ]
    },
    {
      "cell_type": "code",
      "metadata": {
        "colab": {
          "base_uri": "https://localhost:8080/"
        },
        "id": "wHfuKkVoqTuE",
        "outputId": "5898d1a3-ef62-4c4e-c65e-6898a283d6b6"
      },
      "source": [
        "s=pd.Series(data=range(1,5), index=list('abcd'))\n",
        "print(s[['a', 'c', 'b']])\n",
        "d=s.rename({'a':'sss'})\n",
        "print(s)\n",
        "print(d)\n",
        "d=s.rename({'a':'sss'}, inplace=True)\n",
        "print('s: ',s)\n",
        "print('d: ',d)"
      ],
      "execution_count": null,
      "outputs": [
        {
          "output_type": "stream",
          "text": [
            "a    1\n",
            "c    3\n",
            "b    2\n",
            "dtype: int64\n",
            "a    1\n",
            "b    2\n",
            "c    3\n",
            "d    4\n",
            "dtype: int64\n",
            "sss    1\n",
            "b      2\n",
            "c      3\n",
            "d      4\n",
            "dtype: int64\n",
            "s:  sss    1\n",
            "b      2\n",
            "c      3\n",
            "d      4\n",
            "dtype: int64\n",
            "d:  None\n"
          ],
          "name": "stdout"
        }
      ]
    },
    {
      "cell_type": "code",
      "metadata": {
        "colab": {
          "base_uri": "https://localhost:8080/"
        },
        "id": "D-k14GGXrwOi",
        "outputId": "d5ce7e73-f999-4fe3-aef2-33331c211193"
      },
      "source": [
        "s=pd.Series(data=range(1,5), index=list('abcd'))\n",
        "print(s[1:])\n",
        "print(s[:-1])"
      ],
      "execution_count": null,
      "outputs": [
        {
          "output_type": "stream",
          "text": [
            "b    2\n",
            "c    3\n",
            "d    4\n",
            "dtype: int64\n",
            "a    1\n",
            "b    2\n",
            "c    3\n",
            "dtype: int64\n"
          ],
          "name": "stdout"
        }
      ]
    },
    {
      "cell_type": "code",
      "metadata": {
        "colab": {
          "base_uri": "https://localhost:8080/"
        },
        "id": "UePVT3vyr-is",
        "outputId": "f9ab1f12-1633-4de8-a5aa-bd57e40743fe"
      },
      "source": [
        "s=pd.Series([1,2,3,4,21,1,4,56,7,8,2,2,3])\n",
        "print(s.nunique())"
      ],
      "execution_count": null,
      "outputs": [
        {
          "output_type": "stream",
          "text": [
            "8\n"
          ],
          "name": "stdout"
        }
      ]
    },
    {
      "cell_type": "code",
      "metadata": {
        "colab": {
          "base_uri": "https://localhost:8080/",
          "height": 536
        },
        "id": "NjfKeNdnsT6p",
        "outputId": "8c977d2f-6bf5-4f1b-dbdb-551b03f081e5"
      },
      "source": [
        "import matplotlib.pyplot as plt\n",
        "\n",
        "s=pd.Series([1,2,3,4,21,1,4,56,7,8,2,2,3])\n",
        "fig=plt.figure()\n",
        "s.value_counts().sort_index().plot(kind='bar')\n",
        "fig=plt.figure()\n",
        "s.sort_index().value_counts().plot(kind='bar')"
      ],
      "execution_count": null,
      "outputs": [
        {
          "output_type": "execute_result",
          "data": {
            "text/plain": [
              "<matplotlib.axes._subplots.AxesSubplot at 0x7fb1d234d2e8>"
            ]
          },
          "metadata": {
            "tags": []
          },
          "execution_count": 20
        },
        {
          "output_type": "display_data",
          "data": {
            "image/png": "[encoded data removed]",
            "text/plain": [
              "<Figure size 432x288 with 1 Axes>"
            ]
          },
          "metadata": {
            "tags": [],
            "needs_background": "light"
          }
        },
        {
          "output_type": "display_data",
          "data": {
            "image/png": "[encoded data removed]",
            "text/plain": [
              "<Figure size 432x288 with 1 Axes>"
            ]
          },
          "metadata": {
            "tags": [],
            "needs_background": "light"
          }
        }
      ]
    },
    {
      "cell_type": "code",
      "metadata": {
        "colab": {
          "base_uri": "https://localhost:8080/"
        },
        "id": "TXr1Mb38tC-k",
        "outputId": "b266f936-2dba-4e10-e774-f2f367f5a5a7"
      },
      "source": [
        "import numpy as np\n",
        "# practice 3\n",
        "s=pd.Series(data=range(3,11), index=list('ABCDEHGH'))\n",
        "print(s)\n",
        "t=s.rename({'C':'CC', 'D':'DD'})\n",
        "print(t)\n",
        "print('max: ', np.max(s.values))\n",
        "print('min: ', np.min(s.values))\n",
        "print('average: ', np.average(s.values))"
      ],
      "execution_count": null,
      "outputs": [
        {
          "output_type": "stream",
          "text": [
            "A     3\n",
            "B     4\n",
            "C     5\n",
            "D     6\n",
            "E     7\n",
            "H     8\n",
            "G     9\n",
            "H    10\n",
            "dtype: int64\n",
            "A      3\n",
            "B      4\n",
            "CC     5\n",
            "DD     6\n",
            "E      7\n",
            "H      8\n",
            "G      9\n",
            "H     10\n",
            "dtype: int64\n",
            "max:  10\n",
            "min:  3\n",
            "average:  6.5\n"
          ],
          "name": "stdout"
        }
      ]
    },
    {
      "cell_type": "code",
      "metadata": {
        "colab": {
          "base_uri": "https://localhost:8080/",
          "height": 279
        },
        "id": "jpdpW-wPt1U6",
        "outputId": "29f75d16-5a2f-407a-e2a7-a852975bd424"
      },
      "source": [
        "# practice 3\n",
        "s=pd.Series(['a','b','c','c','b','e','f','f','a','b'])\n",
        "fig=plt.figure()\n",
        "s.value_counts(normalize=True).sort_index().plot(kind='bar')"
      ],
      "execution_count": null,
      "outputs": [
        {
          "output_type": "execute_result",
          "data": {
            "text/plain": [
              "<matplotlib.axes._subplots.AxesSubplot at 0x7fb1d222b7f0>"
            ]
          },
          "metadata": {
            "tags": []
          },
          "execution_count": 24
        },
        {
          "output_type": "display_data",
          "data": {
            "image/png": "[encoded data removed]",
            "text/plain": [
              "<Figure size 432x288 with 1 Axes>"
            ]
          },
          "metadata": {
            "tags": [],
            "needs_background": "light"
          }
        }
      ]
    },
    {
      "cell_type": "code",
      "metadata": {
        "colab": {
          "base_uri": "https://localhost:8080/"
        },
        "id": "SerSCw2uupsb",
        "outputId": "27dacbe0-90e1-4028-8ffc-414ed86d4b76"
      },
      "source": [
        "list=[[90,60,33],[50,70,75],[90,60,33],[50,70,75]]\n",
        "df=pd.DataFrame(list, columns=['a', 'b', 'c'], index=['x', 'y', 'z', 'a'])\n",
        "print(df)"
      ],
      "execution_count": null,
      "outputs": [
        {
          "output_type": "stream",
          "text": [
            "    a   b   c\n",
            "x  90  60  33\n",
            "y  50  70  75\n",
            "z  90  60  33\n",
            "a  50  70  75\n"
          ],
          "name": "stdout"
        }
      ]
    },
    {
      "cell_type": "code",
      "metadata": {
        "colab": {
          "base_uri": "https://localhost:8080/"
        },
        "id": "IfaAtqTjv1m1",
        "outputId": "1bc003a5-8e23-4015-917a-7412fd55b779"
      },
      "source": [
        "# df=df.rename(columns=(['a':'AA']))\n",
        "print(df.isnull())\n",
        "df.loc['a', 'z']=100\n",
        "print(df)\n",
        "# fill nan\n",
        "df2=df.fillna(method='ffill')\n",
        "print(df2)"
      ],
      "execution_count": null,
      "outputs": [
        {
          "output_type": "stream",
          "text": [
            "       a      b      c      z\n",
            "x  False  False  False   True\n",
            "y  False  False  False   True\n",
            "z  False  False  False   True\n",
            "a  False  False  False  False\n",
            "    a   b   c      z\n",
            "x  90  60  33    NaN\n",
            "y  50  70  75    NaN\n",
            "z  90  60  33    NaN\n",
            "a  50  70  75  100.0\n",
            "    a   b   c      z\n",
            "x  90  60  33    NaN\n",
            "y  50  70  75    NaN\n",
            "z  90  60  33    NaN\n",
            "a  50  70  75  100.0\n"
          ],
          "name": "stdout"
        }
      ]
    }
  ]
}