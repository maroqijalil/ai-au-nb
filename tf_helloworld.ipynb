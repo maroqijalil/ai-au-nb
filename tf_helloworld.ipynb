{
  "nbformat": 4,
  "nbformat_minor": 0,
  "metadata": {
    "colab": {
      "name": "tf_helloworld.ipynb",
      "provenance": [],
      "collapsed_sections": [],
      "include_colab_link": true
    },
    "kernelspec": {
      "name": "python3",
      "display_name": "Python 3"
    },
    "accelerator": "GPU"
  },
  "cells": [
    {
      "cell_type": "markdown",
      "metadata": {
        "id": "view-in-github",
        "colab_type": "text"
      },
      "source": [
        "<a href=\"https://colab.research.google.com/github/maroqijalil/ai-au-nb/blob/main/tf_helloworld.ipynb\" target=\"_parent\"><img src=\"https://colab.research.google.com/assets/colab-badge.svg\" alt=\"Open In Colab\"/></a>"
      ]
    },
    {
      "cell_type": "code",
      "metadata": {
        "id": "YLmTr87Umteb"
      },
      "source": [
        "import tensorflow as tf"
      ],
      "execution_count": 1,
      "outputs": []
    },
    {
      "cell_type": "code",
      "metadata": {
        "id": "E2nYp5KCnHiH"
      },
      "source": [
        "mnist = tf.keras.datasets.mnist\n",
        "(x_train, y_train), (x_test, y_test) = mnist.load_data()\n",
        "x_train, x_test = x_train / 255.0, x_test / 255.0"
      ],
      "execution_count": 2,
      "outputs": []
    },
    {
      "cell_type": "code",
      "metadata": {
        "id": "TMSXCKX5YbiM",
        "colab": {
          "base_uri": "https://localhost:8080/"
        },
        "outputId": "2e04dd85-13a7-4a0d-882b-b875215b47cb"
      },
      "source": [
        "print(x_train.shape)\n",
        "print(y_train.shape)"
      ],
      "execution_count": 3,
      "outputs": [
        {
          "output_type": "stream",
          "text": [
            "(60000, 28, 28)\n",
            "(60000,)\n"
          ],
          "name": "stdout"
        }
      ]
    },
    {
      "cell_type": "code",
      "metadata": {
        "colab": {
          "base_uri": "https://localhost:8080/"
        },
        "id": "NZKhIdoq9vfS",
        "outputId": "a39934f3-5165-45f6-ed43-622eed0e0d0a"
      },
      "source": [
        "print(x_test.shape)\n",
        "print(y_test.shape)"
      ],
      "execution_count": 4,
      "outputs": [
        {
          "output_type": "stream",
          "text": [
            "(10000, 28, 28)\n",
            "(10000,)\n"
          ],
          "name": "stdout"
        }
      ]
    },
    {
      "cell_type": "code",
      "metadata": {
        "id": "aNd7zMWmneL_"
      },
      "source": [
        "model = tf.keras.models.Sequential([\n",
        "  tf.keras.layers.Flatten(input_shape=(28, 28)),\n",
        "  tf.keras.layers.Dense(128, activation='relu'),\n",
        "  tf.keras.layers.Dropout(0.2),\n",
        "  tf.keras.layers.Dense(10)\n",
        "])"
      ],
      "execution_count": 5,
      "outputs": []
    },
    {
      "cell_type": "code",
      "metadata": {
        "id": "7RsnYBuanm33"
      },
      "source": [
        "loss_fn = tf.keras.losses.SparseCategoricalCrossentropy(from_logits=True)\n",
        "model.compile(optimizer='adam', loss=loss_fn, metrics=['accuracy'])"
      ],
      "execution_count": 6,
      "outputs": []
    },
    {
      "cell_type": "code",
      "metadata": {
        "id": "poefNKBVoDef",
        "colab": {
          "base_uri": "https://localhost:8080/"
        },
        "outputId": "31fa3ff9-353a-4d38-968c-638ed047c127"
      },
      "source": [
        "model.fit(x_train, y_train, epochs=10)"
      ],
      "execution_count": 7,
      "outputs": [
        {
          "output_type": "stream",
          "text": [
            "Epoch 1/10\n",
            "1875/1875 [==============================] - 4s 2ms/step - loss: 0.4751 - accuracy: 0.8615\n",
            "Epoch 2/10\n",
            "1875/1875 [==============================] - 3s 2ms/step - loss: 0.1566 - accuracy: 0.9546\n",
            "Epoch 3/10\n",
            "1875/1875 [==============================] - 3s 2ms/step - loss: 0.1072 - accuracy: 0.9673\n",
            "Epoch 4/10\n",
            "1875/1875 [==============================] - 3s 2ms/step - loss: 0.0890 - accuracy: 0.9726\n",
            "Epoch 5/10\n",
            "1875/1875 [==============================] - 3s 2ms/step - loss: 0.0729 - accuracy: 0.9767\n",
            "Epoch 6/10\n",
            "1875/1875 [==============================] - 3s 2ms/step - loss: 0.0632 - accuracy: 0.9797\n",
            "Epoch 7/10\n",
            "1875/1875 [==============================] - 3s 2ms/step - loss: 0.0597 - accuracy: 0.9806\n",
            "Epoch 8/10\n",
            "1875/1875 [==============================] - 3s 2ms/step - loss: 0.0503 - accuracy: 0.9843\n",
            "Epoch 9/10\n",
            "1875/1875 [==============================] - 3s 2ms/step - loss: 0.0466 - accuracy: 0.9853\n",
            "Epoch 10/10\n",
            "1875/1875 [==============================] - 4s 2ms/step - loss: 0.0434 - accuracy: 0.9856\n"
          ],
          "name": "stdout"
        },
        {
          "output_type": "execute_result",
          "data": {
            "text/plain": [
              "<tensorflow.python.keras.callbacks.History at 0x7fee6f1a7518>"
            ]
          },
          "metadata": {
            "tags": []
          },
          "execution_count": 7
        }
      ]
    },
    {
      "cell_type": "code",
      "metadata": {
        "id": "BRAInZ1AobI8",
        "colab": {
          "base_uri": "https://localhost:8080/"
        },
        "outputId": "553336a1-b719-41b8-e474-059e3bbddefe"
      },
      "source": [
        "model.evaluate(x_test,  y_test)"
      ],
      "execution_count": 8,
      "outputs": [
        {
          "output_type": "stream",
          "text": [
            "313/313 [==============================] - 0s 1ms/step - loss: 0.0634 - accuracy: 0.9801\n"
          ],
          "name": "stdout"
        },
        {
          "output_type": "execute_result",
          "data": {
            "text/plain": [
              "[0.06336712092161179, 0.9800999760627747]"
            ]
          },
          "metadata": {
            "tags": []
          },
          "execution_count": 8
        }
      ]
    },
    {
      "cell_type": "code",
      "metadata": {
        "id": "yS2pqWVppr4Q",
        "colab": {
          "base_uri": "https://localhost:8080/",
          "height": 62
        },
        "outputId": "2276f501-6d6e-46a8-9486-02cc85cec751"
      },
      "source": [
        "from PIL import Image\n",
        "from IPython.display import display\n",
        "\n",
        "img=Image.open(\"Digit4.bmp\")\n",
        "print(img.format, img.size, img.mode)\n",
        "display(img)"
      ],
      "execution_count": 9,
      "outputs": [
        {
          "output_type": "stream",
          "text": [
            "BMP (28, 28) P\n"
          ],
          "name": "stdout"
        },
        {
          "output_type": "display_data",
          "data": {
            "image/png": "[encoded data removed]",
            "text/plain": [
              "<PIL.BmpImagePlugin.BmpImageFile image mode=P size=28x28 at 0x7FEE6CB46978>"
            ]
          },
          "metadata": {
            "tags": []
          }
        }
      ]
    },
    {
      "cell_type": "code",
      "metadata": {
        "colab": {
          "base_uri": "https://localhost:8080/"
        },
        "id": "baZ_Ly_uEXFH",
        "outputId": "61235ddc-f10f-4e4f-a77a-ad05a6103c46"
      },
      "source": [
        "import numpy as np\n",
        "\n",
        "# get the image and cast it to 2darray\n",
        "img=np.resize(img, (28,28))\n",
        "im2arr=np.array(img)\n",
        "im2arr=im2arr.reshape(1, 28, 28)\n",
        "print(im2arr)"
      ],
      "execution_count": 10,
      "outputs": [
        {
          "output_type": "stream",
          "text": [
            "[[[  0   0   0   0   0   0   0   0   0   0   0   0   0   0   0   0   0\n",
            "     0   0   0   0   0   0   0   0   0   0   0]\n",
            "  [  0   0   0   0   0   0   0   0   0   0   0   0   0 255 255   0   0\n",
            "     0   0   0   0   0   0   0   0   0   0   0]\n",
            "  [  0   0   0   0   0   0   0   0   0   0   0   0   0 255 255   0   0\n",
            "     0   0   0   0   0   0   0   0   0   0   0]\n",
            "  [  0   0   0   0   0   0   0   0   0   0   0   0   0 255 255   0   0\n",
            "     0   0   0   0   0   0   0   0   0   0   0]\n",
            "  [  0   0   0   0   0   0   0   0   0   0   0   0   0 255 255   0   0\n",
            "     0   0   0   0   0   0   0   0   0   0   0]\n",
            "  [  0   0   0   0   0   0   0   0   0   0   0   0   0 255 255   0   0\n",
            "     0   0   0   0   0   0   0   0   0   0   0]\n",
            "  [  0   0   0   0   0   0   0   0   0   0   0   0 255 255 255   0   0\n",
            "     0   0   0   0   0   0   0   0   0   0   0]\n",
            "  [  0   0   0   0   0   0   0   0   0   0   0   0 255 255   0   0   0\n",
            "     0   0   0   0   0   0   0   0   0   0   0]\n",
            "  [  0   0   0   0   0   0   0   0   0   0   0 255 255 255   0   0   0\n",
            "   255 255   0   0   0   0   0   0   0   0   0]\n",
            "  [  0   0   0   0   0   0   0   0   0   0 255 255 255   0   0   0   0\n",
            "   255 255   0   0   0   0   0   0   0   0   0]\n",
            "  [  0   0   0   0   0   0   0   0   0   0 255 255   0   0   0   0   0\n",
            "   255 255   0   0   0   0   0   0   0   0   0]\n",
            "  [  0   0   0   0   0   0   0   0   0 255 255 255   0   0   0   0   0\n",
            "   255 255 255   0   0   0   0   0   0   0   0]\n",
            "  [  0   0   0   0   0   0   0   0 255 255 255   0   0   0   0   0   0\n",
            "     0 255 255   0   0   0   0   0   0   0   0]\n",
            "  [  0   0   0   0   0   0   0 255 255 255   0   0   0   0   0   0   0\n",
            "     0 255 255   0   0   0   0   0   0   0   0]\n",
            "  [  0   0   0   0   0   0   0 255 255   0   0   0   0   0   0   0   0\n",
            "     0 255 255   0   0   0   0   0   0   0   0]\n",
            "  [  0   0   0   0   0   0 255 255 255   0   0   0   0   0   0   0   0\n",
            "   255 255 255   0   0   0   0   0   0   0   0]\n",
            "  [  0   0   0   0   0   0 255 255   0   0   0   0   0   0 255 255 255\n",
            "   255 255 255 255 255 255   0   0   0   0   0]\n",
            "  [  0   0   0   0   0 255 255 255 255 255 255 255 255 255 255 255 255\n",
            "   255 255 255 255 255 255 255   0   0   0   0]\n",
            "  [  0   0   0   0   0 255 255 255 255 255 255 255 255 255 255   0   0\n",
            "   255 255   0   0   0   0   0   0   0   0   0]\n",
            "  [  0   0   0   0   0   0   0   0   0   0   0   0   0   0   0   0   0\n",
            "   255 255   0   0   0   0   0   0   0   0   0]\n",
            "  [  0   0   0   0   0   0   0   0   0   0   0   0   0   0   0   0   0\n",
            "   255 255   0   0   0   0   0   0   0   0   0]\n",
            "  [  0   0   0   0   0   0   0   0   0   0   0   0   0   0   0   0   0\n",
            "   255 255   0   0   0   0   0   0   0   0   0]\n",
            "  [  0   0   0   0   0   0   0   0   0   0   0   0   0   0   0   0 255\n",
            "   255 255   0   0   0   0   0   0   0   0   0]\n",
            "  [  0   0   0   0   0   0   0   0   0   0   0   0   0   0   0   0 255\n",
            "   255   0   0   0   0   0   0   0   0   0   0]\n",
            "  [  0   0   0   0   0   0   0   0   0   0   0   0   0   0   0   0 255\n",
            "   255   0   0   0   0   0   0   0   0   0   0]\n",
            "  [  0   0   0   0   0   0   0   0   0   0   0   0   0   0   0   0 255\n",
            "   255   0   0   0   0   0   0   0   0   0   0]\n",
            "  [  0   0   0   0   0   0   0   0   0   0   0   0   0   0   0   0   0\n",
            "     0   0   0   0   0   0   0   0   0   0   0]\n",
            "  [  0   0   0   0   0   0   0   0   0   0   0   0   0   0   0   0   0\n",
            "     0   0   0   0   0   0   0   0   0   0   0]]]\n"
          ],
          "name": "stdout"
        }
      ]
    },
    {
      "cell_type": "code",
      "metadata": {
        "colab": {
          "base_uri": "https://localhost:8080/"
        },
        "id": "j4OZQiZsEn4R",
        "outputId": "c33e2283-e433-4ecd-f840-97ac3ebd0a27"
      },
      "source": [
        "# try to predict the input image\n",
        "y_pred=model.predict(im2arr)\n",
        "print(y_pred)\n",
        "y_prob=tf.nn.softmax(y_pred).numpy()\n",
        "print(y_prob)"
      ],
      "execution_count": 11,
      "outputs": [
        {
          "output_type": "stream",
          "text": [
            "[[-1200.3245   -4601.77     -1009.6382   -2570.1802     606.7901\n",
            "   -308.86258    432.41235   -888.68555  -3585.9355      69.535774]]\n",
            "[[0. 0. 0. 0. 1. 0. 0. 0. 0. 0.]]\n"
          ],
          "name": "stdout"
        }
      ]
    },
    {
      "cell_type": "code",
      "metadata": {
        "colab": {
          "base_uri": "https://localhost:8080/"
        },
        "id": "Uli5xLkXFC9Y",
        "outputId": "48e7cf6c-2ab8-497f-e254-9b93619da9cb"
      },
      "source": [
        "# show the result number\n",
        "y_hat=np.argmax(y_pred)\n",
        "print(y_hat)"
      ],
      "execution_count": 12,
      "outputs": [
        {
          "output_type": "stream",
          "text": [
            "4\n"
          ],
          "name": "stdout"
        }
      ]
    },
    {
      "cell_type": "code",
      "metadata": {
        "colab": {
          "base_uri": "https://localhost:8080/"
        },
        "id": "ci7DKjnQZUrZ",
        "outputId": "d297493e-24a1-497c-e755-386ea01a2c2e"
      },
      "source": [
        "# try to get the porbability of sample dataset\n",
        "pred=model(x_train[:2]).numpy()\n",
        "print(pred)"
      ],
      "execution_count": 13,
      "outputs": [
        {
          "output_type": "stream",
          "text": [
            "[[-15.888691   -6.4479566  -4.166285    9.971376  -30.477543   14.252867\n",
            "  -18.951756   -9.083015  -13.253278   -9.077634 ]\n",
            " [ 14.708317  -17.103876    2.8272128  -6.9414406 -13.945936   -6.3376613\n",
            "   -0.4562354  -9.920357   -9.537363   -5.576695 ]]\n"
          ],
          "name": "stdout"
        }
      ]
    },
    {
      "cell_type": "code",
      "metadata": {
        "colab": {
          "base_uri": "https://localhost:8080/"
        },
        "id": "lQ7JtxjNqDzV",
        "outputId": "6386e8c9-b6de-4a78-c28a-78d3a429e0a0"
      },
      "source": [
        "# try to get the porbability of sample datatest\n",
        "y_test1=model.predict(x_test[:1])\n",
        "print(y_test1)\n",
        "y_hat1=np.argmax(y_test1)\n",
        "print(y_hat1)\n",
        "print(y_test[:1])\n",
        "y_prob1=tf.nn.softmax(y_test1).numpy()\n",
        "print(y_prob1.max())\n",
        "y_hat_prob1=np.argmax(y_prob1)\n",
        "print(y_hat_prob1)"
      ],
      "execution_count": 14,
      "outputs": [
        {
          "output_type": "stream",
          "text": [
            "[[ -5.8625083  -9.639478    2.7492552   1.4721565 -16.293686   -5.819319\n",
            "  -15.566664   12.127261   -6.3224387  -2.7152793]]\n",
            "7\n",
            "[7]\n",
            "0.9998914\n",
            "7\n"
          ],
          "name": "stdout"
        }
      ]
    },
    {
      "cell_type": "code",
      "metadata": {
        "colab": {
          "base_uri": "https://localhost:8080/"
        },
        "id": "6UEvabkYrobQ",
        "outputId": "a92fe35b-c01b-49d5-ef21-add855c8ed0c"
      },
      "source": [
        "# ASSIGNMENT 2 ANSWER (start from this row until end)\n",
        "# get each predictions in 2darray result of mnist datatest\n",
        "y_main_pred=model.predict(x_test)\n",
        "print(y_main_pred.shape)\n",
        "print(y_main_pred)"
      ],
      "execution_count": 15,
      "outputs": [
        {
          "output_type": "stream",
          "text": [
            "(10000, 10)\n",
            "[[ -5.8625064   -9.63948      2.7492547  ...  12.127261    -6.3224382\n",
            "   -2.7152793 ]\n",
            " [ -2.1828835   -0.52034396  17.287476   ... -25.102448    -0.6526638\n",
            "  -18.309721  ]\n",
            " [-11.145531     8.067931    -2.3721104  ...  -0.1472311   -3.1149974\n",
            "   -9.666488  ]\n",
            " ...\n",
            " [-20.068178   -10.810468   -15.959257   ...   0.6627422   -2.7334352\n",
            "    1.2095748 ]\n",
            " [ -6.497234    -9.704112    -9.195893   ...  -3.6054583    3.5489776\n",
            "  -15.608153  ]\n",
            " [ -2.3575952  -17.81318     -2.0064158  ... -17.45553     -5.4559717\n",
            "  -12.581616  ]]\n"
          ],
          "name": "stdout"
        }
      ]
    },
    {
      "cell_type": "code",
      "metadata": {
        "colab": {
          "base_uri": "https://localhost:8080/"
        },
        "id": "YGVwyqaFt_bT",
        "outputId": "0e3ddac4-ec71-4b6e-bdc0-01956b20888f"
      },
      "source": [
        "# get each probabilities of 2darray predictions\n",
        "y_main_prob=tf.nn.softmax(y_main_pred).numpy()\n",
        "print(y_main_prob.shape)\n",
        "print(y_main_prob)"
      ],
      "execution_count": 16,
      "outputs": [
        {
          "output_type": "stream",
          "text": [
            "(10000, 10)\n",
            "[[1.5384956e-08 3.5219033e-10 8.4554478e-05 ... 9.9989140e-01\n",
            "  9.7129291e-09 3.5802992e-07]\n",
            " [3.5005010e-09 1.8457051e-08 1.0000000e+00 ... 3.8930534e-19\n",
            "  1.6169491e-08 3.4700296e-16]\n",
            " [4.5243498e-09 9.9967086e-01 2.9228371e-05 ... 2.7043160e-04\n",
            "  1.3905067e-05 1.9856230e-08]\n",
            " ...\n",
            " [1.1778123e-15 1.2349490e-11 7.1706387e-14 ... 1.1868640e-06\n",
            "  3.9761204e-08 2.0506291e-06]\n",
            " [6.7728316e-09 2.7418304e-10 4.5578200e-10 ... 1.2208217e-07\n",
            "  1.5623718e-04 7.4807998e-13]\n",
            " [1.7930742e-09 3.4779456e-16 2.5474953e-09 ... 4.9733444e-16\n",
            "  8.0907753e-11 6.5067180e-14]]\n"
          ],
          "name": "stdout"
        }
      ]
    },
    {
      "cell_type": "code",
      "metadata": {
        "colab": {
          "base_uri": "https://localhost:8080/"
        },
        "id": "Wg855F6ZuZZ_",
        "outputId": "a6ceb5ce-152e-4167-cd5e-056af1046a62"
      },
      "source": [
        "# get max number at every row of 2darray probabilities\n",
        "y_main_prob_max=np.amax(y_main_prob, axis=1)\n",
        "print(y_main_prob_max.shape)\n",
        "print(y_main_prob_max)"
      ],
      "execution_count": 17,
      "outputs": [
        {
          "output_type": "stream",
          "text": [
            "(10000,)\n",
            "[0.9998914  1.         0.99967086 ... 0.99999666 0.9998436  0.9999975 ]\n"
          ],
          "name": "stdout"
        }
      ]
    },
    {
      "cell_type": "code",
      "metadata": {
        "colab": {
          "base_uri": "https://localhost:8080/"
        },
        "id": "PHUC8pXnvI8X",
        "outputId": "46269016-d2b8-44b8-f638-6c981882fa9e"
      },
      "source": [
        "# truncate the array with max number below 0.9\n",
        "y_main_prob_max_ltzn=y_main_prob_max[y_main_prob_max<0.9]\n",
        "print(y_main_prob_max_ltzn.shape)\n",
        "print(y_main_prob_max_ltzn[::10])"
      ],
      "execution_count": 18,
      "outputs": [
        {
          "output_type": "stream",
          "text": [
            "(412,)\n",
            "[0.83070904 0.78715104 0.6884427  0.85863656 0.8897793  0.68679017\n",
            " 0.84262675 0.8666606  0.81116784 0.88417757 0.620055   0.86974204\n",
            " 0.76285297 0.73395157 0.8149045  0.85531056 0.57300067 0.7047428\n",
            " 0.6773498  0.6032614  0.5470372  0.6693304  0.78017443 0.45079783\n",
            " 0.564808   0.8068663  0.66958874 0.76905507 0.65012974 0.8267852\n",
            " 0.5399599  0.78158116 0.81094426 0.5078408  0.85707    0.8686404\n",
            " 0.8986381  0.48326385 0.6273188  0.88894755 0.7933598  0.66094613]\n"
          ],
          "name": "stdout"
        }
      ]
    },
    {
      "cell_type": "code",
      "metadata": {
        "colab": {
          "base_uri": "https://localhost:8080/"
        },
        "id": "o2eOrEpMylc5",
        "outputId": "33d28fb4-3eaa-4d39-997a-a52b19404f6a"
      },
      "source": [
        "# get a number below 0.9 exactly\n",
        "y_main_prob_max_ltzn_e=y_main_prob_max_ltzn.max()\n",
        "print('A number, the maximum probability less than 0.9 exactly of mnist datatest, is ', y_main_prob_max_ltzn_e)\n",
        "y_main_result_index=np.where(y_main_prob_max==y_main_prob_max_ltzn_e)\n",
        "print('An Image with this maximum probability is at index: ', y_main_result_index[0])\n",
        "print('There was the probabilities data of that image: ', y_main_prob[y_main_result_index])\n",
        "print('This image shows number: ', np.argmax(y_main_prob[y_main_result_index]))\n",
        "print('This is the true result which is sourced from the y_test array: ', y_test[y_main_result_index], '(same)')"
      ],
      "execution_count": 19,
      "outputs": [
        {
          "output_type": "stream",
          "text": [
            "A number, the maximum probability less than 0.9 exactly of mnist datatest, is  0.899394\n",
            "An Image with this maximum probability is at index:  [1441]\n",
            "There was the probabilities data of that image:  [[5.6492485e-08 3.7604955e-06 9.8898858e-02 2.6668689e-05 6.7477124e-08\n",
            "  2.9977332e-10 7.4538119e-11 1.6384008e-03 8.9939398e-01 3.8138049e-05]]\n",
            "This image shows number:  8\n",
            "This is the true result which is sourced from the y_test array:  [8] (same)\n"
          ],
          "name": "stdout"
        }
      ]
    },
    {
      "cell_type": "code",
      "metadata": {
        "colab": {
          "base_uri": "https://localhost:8080/"
        },
        "id": "VKCIknAa4j6N",
        "outputId": "d33ff929-8639-4b11-98ba-2165838e7613"
      },
      "source": [
        "# RUN THIS FIRST!!!\n",
        "import numpy as np\n",
        "import tensorflow as tf\n",
        "\n",
        "mnist = tf.keras.datasets.mnist\n",
        "(x_train, y_train), (x_test, y_test) = mnist.load_data()\n",
        "x_train, x_test = x_train / 255.0, x_test / 255.0\n",
        "\n",
        "model = tf.keras.models.Sequential([\n",
        "  tf.keras.layers.Flatten(input_shape=(28, 28)),\n",
        "  tf.keras.layers.Dense(128, activation='relu'),\n",
        "  tf.keras.layers.Dropout(0.2),\n",
        "  tf.keras.layers.Dense(10)\n",
        "])\n",
        "\n",
        "loss_fn = tf.keras.losses.SparseCategoricalCrossentropy(from_logits=True)\n",
        "model.compile(optimizer='adam', loss=loss_fn, metrics=['accuracy'])\n",
        "\n",
        "model.fit(x_train, y_train, epochs=10)\n",
        "model.evaluate(x_test,  y_test)"
      ],
      "execution_count": 20,
      "outputs": [
        {
          "output_type": "stream",
          "text": [
            "Epoch 1/10\n",
            "1875/1875 [==============================] - 4s 2ms/step - loss: 0.4830 - accuracy: 0.8570\n",
            "Epoch 2/10\n",
            "1875/1875 [==============================] - 3s 2ms/step - loss: 0.1476 - accuracy: 0.9570\n",
            "Epoch 3/10\n",
            "1875/1875 [==============================] - 3s 2ms/step - loss: 0.1074 - accuracy: 0.9671\n",
            "Epoch 4/10\n",
            "1875/1875 [==============================] - 3s 2ms/step - loss: 0.0887 - accuracy: 0.9735\n",
            "Epoch 5/10\n",
            "1875/1875 [==============================] - 3s 2ms/step - loss: 0.0724 - accuracy: 0.9771\n",
            "Epoch 6/10\n",
            "1875/1875 [==============================] - 3s 2ms/step - loss: 0.0621 - accuracy: 0.9796\n",
            "Epoch 7/10\n",
            "1875/1875 [==============================] - 3s 2ms/step - loss: 0.0542 - accuracy: 0.9817\n",
            "Epoch 8/10\n",
            "1875/1875 [==============================] - 3s 2ms/step - loss: 0.0488 - accuracy: 0.9839\n",
            "Epoch 9/10\n",
            "1875/1875 [==============================] - 3s 2ms/step - loss: 0.0453 - accuracy: 0.9839\n",
            "Epoch 10/10\n",
            "1875/1875 [==============================] - 3s 2ms/step - loss: 0.0396 - accuracy: 0.9868\n",
            "313/313 [==============================] - 0s 1ms/step - loss: 0.0671 - accuracy: 0.9797\n"
          ],
          "name": "stdout"
        },
        {
          "output_type": "execute_result",
          "data": {
            "text/plain": [
              "[0.06705672293901443, 0.9797000288963318]"
            ]
          },
          "metadata": {
            "tags": []
          },
          "execution_count": 20
        }
      ]
    },
    {
      "cell_type": "code",
      "metadata": {
        "colab": {
          "base_uri": "https://localhost:8080/"
        },
        "id": "HRjysMAtN4y5",
        "outputId": "a8b9bf44-4f74-4496-ed0f-f4602638229b"
      },
      "source": [
        "# ASSIGNMENT 2 ANSWER (short step) - for x_test and y_test\n",
        "y_main_prob=tf.nn.softmax(model.predict(x_test)).numpy()\n",
        "y_main_prob_max=np.amax(y_main_prob, axis=1)\n",
        "y_main_prob_max_ltzn_e=y_main_prob_max[y_main_prob_max<0.9].max()\n",
        "y_main_result_index=np.where(y_main_prob_max==y_main_prob_max_ltzn_e)\n",
        "print('A number, the maximum probability less than 0.9 exactly of mnist datatest, is ', y_main_prob_max_ltzn_e)\n",
        "print('An Image with this maximum probability is at index: ', y_main_result_index[0])\n",
        "print('There was the probabilities data of that image: ', y_main_prob[y_main_result_index])\n",
        "print('This image shows number: ', np.argmax(y_main_prob[y_main_result_index]))\n",
        "print('This is the true result which is sourced from the y_test array: ', y_test[y_main_result_index], '(same)')"
      ],
      "execution_count": 21,
      "outputs": [
        {
          "output_type": "stream",
          "text": [
            "A number, the maximum probability less than 0.9 exactly of mnist datatest, is  0.89975184\n",
            "An Image with this maximum probability is at index:  [7121]\n",
            "There was the probabilities data of that image:  [[5.1227551e-07 5.3335074e-04 2.1973646e-07 2.4314378e-03 2.6724296e-05\n",
            "  4.6097237e-04 4.4139750e-08 2.0968402e-02 8.9975184e-01 7.5826511e-02]]\n",
            "This image shows number:  8\n",
            "This is the true result which is sourced from the y_test array:  [8] (same)\n"
          ],
          "name": "stdout"
        }
      ]
    },
    {
      "cell_type": "code",
      "metadata": {
        "colab": {
          "base_uri": "https://localhost:8080/"
        },
        "id": "nbvUDClt_2JS",
        "outputId": "3aa3e66b-a2f7-4408-bd3a-ef57f166fa4a"
      },
      "source": [
        "# ASSIGNMENT 2 ANSWER (short step) - for x_train and y_train\n",
        "y_main_prob=tf.nn.softmax(model.predict(x_train)).numpy()\n",
        "y_main_prob_max=np.amax(y_main_prob, axis=1)\n",
        "y_main_prob_max_ltzn_e=y_main_prob_max[y_main_prob_max<0.9].max()\n",
        "y_main_result_index=np.where(y_main_prob_max==y_main_prob_max_ltzn_e)\n",
        "print('A number, the maximum probability less than 0.9 exactly of mnist dataset, is ', y_main_prob_max_ltzn_e)\n",
        "print('An Image with this maximum probability is at index: ', y_main_result_index[0])\n",
        "print('There was the probabilities data of that image: ', y_main_prob[y_main_result_index])\n",
        "print('This image shows number: ', np.argmax(y_main_prob[y_main_result_index]))\n",
        "print('This is the true result which is sourced from the y_test array: ', y_train[y_main_result_index], '(same)')"
      ],
      "execution_count": 22,
      "outputs": [
        {
          "output_type": "stream",
          "text": [
            "A number, the maximum probability less than 0.9 exactly of mnist dataset, is  0.8998634\n",
            "An Image with this maximum probability is at index:  [30972]\n",
            "There was the probabilities data of that image:  [[3.0320638e-08 9.9405378e-02 8.9986342e-01 6.3992869e-05 6.3336413e-11\n",
            "  6.1466178e-04 5.8148844e-06 1.7631706e-05 2.9067050e-05 2.2478761e-09]]\n",
            "This image shows number:  2\n",
            "This is the true result which is sourced from the y_test array:  [2] (same)\n"
          ],
          "name": "stdout"
        }
      ]
    }
  ]
}