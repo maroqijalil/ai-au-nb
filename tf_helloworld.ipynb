{
  "nbformat": 4,
  "nbformat_minor": 0,
  "metadata": {
    "colab": {
      "name": "tf_helloworld.ipynb",
      "provenance": [],
      "collapsed_sections": [],
      "include_colab_link": true
    },
    "kernelspec": {
      "name": "python3",
      "display_name": "Python 3"
    },
    "accelerator": "GPU"
  },
  "cells": [
    {
      "cell_type": "markdown",
      "metadata": {
        "id": "view-in-github",
        "colab_type": "text"
      },
      "source": [
        "<a href=\"https://colab.research.google.com/github/maroqijalil/ai-au-nb/blob/main/tf_helloworld.ipynb\" target=\"_parent\"><img src=\"https://colab.research.google.com/assets/colab-badge.svg\" alt=\"Open In Colab\"/></a>"
      ]
    },
    {
      "cell_type": "code",
      "metadata": {
        "id": "YLmTr87Umteb"
      },
      "source": [
        "import tensorflow as tf"
      ],
      "execution_count": null,
      "outputs": []
    },
    {
      "cell_type": "code",
      "metadata": {
        "id": "E2nYp5KCnHiH",
        "colab": {
          "base_uri": "https://localhost:8080/"
        },
        "outputId": "0c91a1e6-21aa-4fdd-d711-adc277a83718"
      },
      "source": [
        "mnist = tf.keras.datasets.mnist\n",
        "(x_train, y_train), (x_test, y_test) = mnist.load_data()\n",
        "x_train, x_test = x_train / 255.0, x_test / 255.0"
      ],
      "execution_count": null,
      "outputs": [
        {
          "output_type": "stream",
          "text": [
            "Downloading data from https://storage.googleapis.com/tensorflow/tf-keras-datasets/mnist.npz\n",
            "11493376/11490434 [==============================] - 0s 0us/step\n"
          ],
          "name": "stdout"
        }
      ]
    },
    {
      "cell_type": "code",
      "metadata": {
        "id": "TMSXCKX5YbiM",
        "colab": {
          "base_uri": "https://localhost:8080/"
        },
        "outputId": "a5c4283d-1584-4f06-f223-e6700ce6c9c6"
      },
      "source": [
        "print(x_train.shape)\n",
        "print(y_train.shape)"
      ],
      "execution_count": null,
      "outputs": [
        {
          "output_type": "stream",
          "text": [
            "(60000, 28, 28)\n",
            "(60000,)\n"
          ],
          "name": "stdout"
        }
      ]
    },
    {
      "cell_type": "code",
      "metadata": {
        "colab": {
          "base_uri": "https://localhost:8080/"
        },
        "id": "NZKhIdoq9vfS",
        "outputId": "d2a2ecaf-e7aa-4d76-e110-bb626acefa0e"
      },
      "source": [
        "print(x_test.shape)\n",
        "print(y_test.shape)"
      ],
      "execution_count": null,
      "outputs": [
        {
          "output_type": "stream",
          "text": [
            "(10000, 28, 28)\n",
            "(10000,)\n"
          ],
          "name": "stdout"
        }
      ]
    },
    {
      "cell_type": "code",
      "metadata": {
        "id": "aNd7zMWmneL_"
      },
      "source": [
        "model = tf.keras.models.Sequential([\n",
        "  tf.keras.layers.Flatten(input_shape=(28, 28)),\n",
        "  tf.keras.layers.Dense(128, activation='relu'),\n",
        "  tf.keras.layers.Dropout(0.2),\n",
        "  tf.keras.layers.Dense(10)\n",
        "])"
      ],
      "execution_count": null,
      "outputs": []
    },
    {
      "cell_type": "code",
      "metadata": {
        "id": "7RsnYBuanm33"
      },
      "source": [
        "loss_fn = tf.keras.losses.SparseCategoricalCrossentropy(from_logits=True)\n",
        "model.compile(optimizer='adam', loss=loss_fn, metrics=['accuracy'])"
      ],
      "execution_count": null,
      "outputs": []
    },
    {
      "cell_type": "code",
      "metadata": {
        "id": "poefNKBVoDef",
        "colab": {
          "base_uri": "https://localhost:8080/"
        },
        "outputId": "e3ca9eb5-e977-422b-c90d-9fc496249187"
      },
      "source": [
        "model.fit(x_train, y_train, epochs=10)"
      ],
      "execution_count": null,
      "outputs": [
        {
          "output_type": "stream",
          "text": [
            "Epoch 1/10\n",
            "1875/1875 [==============================] - 5s 2ms/step - loss: 0.4822 - accuracy: 0.8591\n",
            "Epoch 2/10\n",
            "1875/1875 [==============================] - 3s 2ms/step - loss: 0.1521 - accuracy: 0.9558\n",
            "Epoch 3/10\n",
            "1875/1875 [==============================] - 3s 2ms/step - loss: 0.1088 - accuracy: 0.9672\n",
            "Epoch 4/10\n",
            "1875/1875 [==============================] - 3s 2ms/step - loss: 0.0888 - accuracy: 0.9724\n",
            "Epoch 5/10\n",
            "1875/1875 [==============================] - 3s 2ms/step - loss: 0.0708 - accuracy: 0.9786\n",
            "Epoch 6/10\n",
            "1875/1875 [==============================] - 3s 2ms/step - loss: 0.0637 - accuracy: 0.9798\n",
            "Epoch 7/10\n",
            "1875/1875 [==============================] - 3s 2ms/step - loss: 0.0564 - accuracy: 0.9821\n",
            "Epoch 8/10\n",
            "1875/1875 [==============================] - 3s 2ms/step - loss: 0.0515 - accuracy: 0.9839\n",
            "Epoch 9/10\n",
            "1875/1875 [==============================] - 3s 2ms/step - loss: 0.0461 - accuracy: 0.9845\n",
            "Epoch 10/10\n",
            "1875/1875 [==============================] - 3s 2ms/step - loss: 0.0442 - accuracy: 0.9864\n"
          ],
          "name": "stdout"
        },
        {
          "output_type": "execute_result",
          "data": {
            "text/plain": [
              "<tensorflow.python.keras.callbacks.History at 0x7fd4b0d69e10>"
            ]
          },
          "metadata": {
            "tags": []
          },
          "execution_count": 8
        }
      ]
    },
    {
      "cell_type": "code",
      "metadata": {
        "id": "BRAInZ1AobI8",
        "colab": {
          "base_uri": "https://localhost:8080/"
        },
        "outputId": "efede446-b099-4a74-e01f-09e3ce236bfa"
      },
      "source": [
        "model.evaluate(x_test,  y_test)"
      ],
      "execution_count": null,
      "outputs": [
        {
          "output_type": "stream",
          "text": [
            "313/313 [==============================] - 1s 2ms/step - loss: 0.0678 - accuracy: 0.9808\n"
          ],
          "name": "stdout"
        },
        {
          "output_type": "execute_result",
          "data": {
            "text/plain": [
              "[0.0677928626537323, 0.9807999730110168]"
            ]
          },
          "metadata": {
            "tags": []
          },
          "execution_count": 9
        }
      ]
    },
    {
      "cell_type": "code",
      "metadata": {
        "id": "yS2pqWVppr4Q",
        "colab": {
          "base_uri": "https://localhost:8080/",
          "height": 62
        },
        "outputId": "e19af6da-07b1-4d01-f605-d201c1cac648"
      },
      "source": [
        "from PIL import Image\n",
        "from IPython.display import display\n",
        "\n",
        "img=Image.open(\"Digit4.bmp\")\n",
        "print(img.format, img.size, img.mode)\n",
        "display(img)"
      ],
      "execution_count": null,
      "outputs": [
        {
          "output_type": "stream",
          "text": [
            "BMP (28, 28) P\n"
          ],
          "name": "stdout"
        },
        {
          "output_type": "display_data",
          "data": {
            "image/png": "[encoded data removed]",
            "text/plain": [
              "<PIL.BmpImagePlugin.BmpImageFile image mode=P size=28x28 at 0x7FD4A00E9B00>"
            ]
          },
          "metadata": {
            "tags": []
          }
        }
      ]
    },
    {
      "cell_type": "code",
      "metadata": {
        "colab": {
          "base_uri": "https://localhost:8080/"
        },
        "id": "baZ_Ly_uEXFH",
        "outputId": "bf06cdb4-17d0-4626-9d7f-bf7474be8870"
      },
      "source": [
        "import numpy as np\n",
        "\n",
        "# get the image and cast it to 2darray\n",
        "img=np.resize(img, (28,28))\n",
        "im2arr=np.array(img)\n",
        "im2arr=im2arr.reshape(1, 28, 28)\n",
        "print(im2arr)"
      ],
      "execution_count": null,
      "outputs": [
        {
          "output_type": "stream",
          "text": [
            "[[[  0   0   0   0   0   0   0   0   0   0   0   0   0   0   0   0   0\n",
            "     0   0   0   0   0   0   0   0   0   0   0]\n",
            "  [  0   0   0   0   0   0   0   0   0   0   0   0   0 255 255   0   0\n",
            "     0   0   0   0   0   0   0   0   0   0   0]\n",
            "  [  0   0   0   0   0   0   0   0   0   0   0   0   0 255 255   0   0\n",
            "     0   0   0   0   0   0   0   0   0   0   0]\n",
            "  [  0   0   0   0   0   0   0   0   0   0   0   0   0 255 255   0   0\n",
            "     0   0   0   0   0   0   0   0   0   0   0]\n",
            "  [  0   0   0   0   0   0   0   0   0   0   0   0   0 255 255   0   0\n",
            "     0   0   0   0   0   0   0   0   0   0   0]\n",
            "  [  0   0   0   0   0   0   0   0   0   0   0   0   0 255 255   0   0\n",
            "     0   0   0   0   0   0   0   0   0   0   0]\n",
            "  [  0   0   0   0   0   0   0   0   0   0   0   0 255 255 255   0   0\n",
            "     0   0   0   0   0   0   0   0   0   0   0]\n",
            "  [  0   0   0   0   0   0   0   0   0   0   0   0 255 255   0   0   0\n",
            "     0   0   0   0   0   0   0   0   0   0   0]\n",
            "  [  0   0   0   0   0   0   0   0   0   0   0 255 255 255   0   0   0\n",
            "   255 255   0   0   0   0   0   0   0   0   0]\n",
            "  [  0   0   0   0   0   0   0   0   0   0 255 255 255   0   0   0   0\n",
            "   255 255   0   0   0   0   0   0   0   0   0]\n",
            "  [  0   0   0   0   0   0   0   0   0   0 255 255   0   0   0   0   0\n",
            "   255 255   0   0   0   0   0   0   0   0   0]\n",
            "  [  0   0   0   0   0   0   0   0   0 255 255 255   0   0   0   0   0\n",
            "   255 255 255   0   0   0   0   0   0   0   0]\n",
            "  [  0   0   0   0   0   0   0   0 255 255 255   0   0   0   0   0   0\n",
            "     0 255 255   0   0   0   0   0   0   0   0]\n",
            "  [  0   0   0   0   0   0   0 255 255 255   0   0   0   0   0   0   0\n",
            "     0 255 255   0   0   0   0   0   0   0   0]\n",
            "  [  0   0   0   0   0   0   0 255 255   0   0   0   0   0   0   0   0\n",
            "     0 255 255   0   0   0   0   0   0   0   0]\n",
            "  [  0   0   0   0   0   0 255 255 255   0   0   0   0   0   0   0   0\n",
            "   255 255 255   0   0   0   0   0   0   0   0]\n",
            "  [  0   0   0   0   0   0 255 255   0   0   0   0   0   0 255 255 255\n",
            "   255 255 255 255 255 255   0   0   0   0   0]\n",
            "  [  0   0   0   0   0 255 255 255 255 255 255 255 255 255 255 255 255\n",
            "   255 255 255 255 255 255 255   0   0   0   0]\n",
            "  [  0   0   0   0   0 255 255 255 255 255 255 255 255 255 255   0   0\n",
            "   255 255   0   0   0   0   0   0   0   0   0]\n",
            "  [  0   0   0   0   0   0   0   0   0   0   0   0   0   0   0   0   0\n",
            "   255 255   0   0   0   0   0   0   0   0   0]\n",
            "  [  0   0   0   0   0   0   0   0   0   0   0   0   0   0   0   0   0\n",
            "   255 255   0   0   0   0   0   0   0   0   0]\n",
            "  [  0   0   0   0   0   0   0   0   0   0   0   0   0   0   0   0   0\n",
            "   255 255   0   0   0   0   0   0   0   0   0]\n",
            "  [  0   0   0   0   0   0   0   0   0   0   0   0   0   0   0   0 255\n",
            "   255 255   0   0   0   0   0   0   0   0   0]\n",
            "  [  0   0   0   0   0   0   0   0   0   0   0   0   0   0   0   0 255\n",
            "   255   0   0   0   0   0   0   0   0   0   0]\n",
            "  [  0   0   0   0   0   0   0   0   0   0   0   0   0   0   0   0 255\n",
            "   255   0   0   0   0   0   0   0   0   0   0]\n",
            "  [  0   0   0   0   0   0   0   0   0   0   0   0   0   0   0   0 255\n",
            "   255   0   0   0   0   0   0   0   0   0   0]\n",
            "  [  0   0   0   0   0   0   0   0   0   0   0   0   0   0   0   0   0\n",
            "     0   0   0   0   0   0   0   0   0   0   0]\n",
            "  [  0   0   0   0   0   0   0   0   0   0   0   0   0   0   0   0   0\n",
            "     0   0   0   0   0   0   0   0   0   0   0]]]\n"
          ],
          "name": "stdout"
        }
      ]
    },
    {
      "cell_type": "code",
      "metadata": {
        "colab": {
          "base_uri": "https://localhost:8080/"
        },
        "id": "j4OZQiZsEn4R",
        "outputId": "855fc38b-9d49-437f-cd51-cb3e517fcedf"
      },
      "source": [
        "# try to predict the input image\n",
        "y_pred=model.predict(im2arr)\n",
        "print(y_pred)\n",
        "y_prob=tf.nn.softmax(y_pred).numpy()\n",
        "print(y_prob)"
      ],
      "execution_count": null,
      "outputs": [
        {
          "output_type": "stream",
          "text": [
            "[[ -908.2029  -5060.987    -901.97003 -2454.5737   1783.2985   -807.17957\n",
            "    496.69977  -459.50107 -2411.1755   -298.90103]]\n",
            "[[0. 0. 0. 0. 1. 0. 0. 0. 0. 0.]]\n"
          ],
          "name": "stdout"
        }
      ]
    },
    {
      "cell_type": "code",
      "metadata": {
        "colab": {
          "base_uri": "https://localhost:8080/"
        },
        "id": "Uli5xLkXFC9Y",
        "outputId": "2be2d30f-5de6-4f13-b9e3-8d326b96dab8"
      },
      "source": [
        "# show the result number\n",
        "y_hat=np.argmax(y_pred)\n",
        "print(y_hat)"
      ],
      "execution_count": null,
      "outputs": [
        {
          "output_type": "stream",
          "text": [
            "4\n"
          ],
          "name": "stdout"
        }
      ]
    },
    {
      "cell_type": "code",
      "metadata": {
        "colab": {
          "base_uri": "https://localhost:8080/"
        },
        "id": "ci7DKjnQZUrZ",
        "outputId": "59cbee1b-d940-4c71-d55b-5643e50c9dc2"
      },
      "source": [
        "# try to get the porbability of sample dataset\n",
        "pred=model(x_train[:2]).numpy()\n",
        "print(pred)"
      ],
      "execution_count": null,
      "outputs": [
        {
          "output_type": "stream",
          "text": [
            "[[-24.232183   -9.029893   -3.8706348  10.094456  -39.58185    16.061453\n",
            "  -18.379873  -12.3868065  -8.928768   -3.1878443]\n",
            " [ 14.985053  -15.055254    2.7704096  -3.0441833 -14.140207   -6.6261177\n",
            "   -4.9330354  -8.508929   -8.53546    -0.5745102]]\n"
          ],
          "name": "stdout"
        }
      ]
    },
    {
      "cell_type": "code",
      "metadata": {
        "colab": {
          "base_uri": "https://localhost:8080/"
        },
        "id": "lQ7JtxjNqDzV",
        "outputId": "81d92cf3-0ad1-4704-9480-fda0e91a5a40"
      },
      "source": [
        "# try to get the porbability of sample datatest\n",
        "y_test1=model.predict(x_test[:1])\n",
        "print(y_test1)\n",
        "y_hat1=np.argmax(y_test1)\n",
        "print(y_hat1)\n",
        "print(y_test[:1])\n",
        "y_prob1=tf.nn.softmax(y_test1).numpy()\n",
        "print(y_prob1.max())\n",
        "y_hat_prob1=np.argmax(y_prob1)\n",
        "print(y_hat_prob1)"
      ],
      "execution_count": null,
      "outputs": [
        {
          "output_type": "stream",
          "text": [
            "[[ -7.862609    -9.24925     -1.7107462    1.9612548  -18.051968\n",
            "   -5.8817406  -29.1606      13.343263    -6.1931725   -0.67499465]]\n",
            "7\n",
            "[7]\n",
            "0.9999875\n",
            "7\n"
          ],
          "name": "stdout"
        }
      ]
    },
    {
      "cell_type": "code",
      "metadata": {
        "colab": {
          "base_uri": "https://localhost:8080/"
        },
        "id": "6UEvabkYrobQ",
        "outputId": "f998d611-1a16-421e-a3da-736f17314bed"
      },
      "source": [
        "# ASSIGNMENT 2 ANSWER (start from this row until end)\n",
        "# get each predictions in 2darray result of mnist datatest\n",
        "y_main_pred=model.predict(x_test)\n",
        "print(y_main_pred.shape)\n",
        "print(y_main_pred)"
      ],
      "execution_count": null,
      "outputs": [
        {
          "output_type": "stream",
          "text": [
            "(10000, 10)\n",
            "[[ -7.862609    -9.249249    -1.7107478  ...  13.343263    -6.193173\n",
            "   -0.67499363]\n",
            " [ -6.3890114    0.92446715  17.276182   ... -23.420502    -3.4408054\n",
            "  -17.26105   ]\n",
            " [ -8.188413     8.260419    -5.1639757  ...  -0.31931877  -0.29267523\n",
            "   -6.926163  ]\n",
            " ...\n",
            " [-17.77708    -10.929395   -14.477875   ...   1.2875264   -3.8640776\n",
            "    1.219235  ]\n",
            " [ -8.7931795   -5.2558565  -17.19992    ...  -9.958588    -1.0319766\n",
            "  -10.482153  ]\n",
            " [ -2.407652   -14.525376    -1.5765356  ... -17.745136    -1.2357647\n",
            "  -12.14653   ]]\n"
          ],
          "name": "stdout"
        }
      ]
    },
    {
      "cell_type": "code",
      "metadata": {
        "colab": {
          "base_uri": "https://localhost:8080/"
        },
        "id": "YGVwyqaFt_bT",
        "outputId": "591ec38a-e405-481e-be85-a341424ff0e0"
      },
      "source": [
        "# get each probabilities of 2darray predictions\n",
        "y_main_prob=tf.nn.softmax(y_main_pred).numpy()\n",
        "print(y_main_prob.shape)\n",
        "print(y_main_prob)"
      ],
      "execution_count": null,
      "outputs": [
        {
          "output_type": "stream",
          "text": [
            "(10000, 10)\n",
            "[[6.1716537e-10 1.5423794e-10 2.8981501e-07 ... 9.9998748e-01\n",
            "  3.2766356e-09 8.1647568e-07]\n",
            " [5.2763901e-11 7.9166277e-08 9.9999976e-01 ... 2.1166733e-18\n",
            "  1.0062977e-09 1.0015458e-15]\n",
            " [7.1808635e-08 9.9957055e-01 1.4779951e-06 ... 1.8779357e-04\n",
            "  1.9286435e-04 2.5372572e-07]\n",
            " ...\n",
            " [4.6024933e-15 4.3341598e-12 1.2468668e-13 ... 8.7628672e-07\n",
            "  5.0737978e-09 8.1844212e-07]\n",
            " [5.1318075e-11 1.7640472e-09 1.1462218e-14 ... 1.6000725e-11\n",
            "  1.2048071e-07 9.4789038e-12]\n",
            " [2.1615543e-09 1.1806057e-14 4.9626663e-09 ... 4.7182451e-16\n",
            "  6.9776620e-09 1.2741632e-13]]\n"
          ],
          "name": "stdout"
        }
      ]
    },
    {
      "cell_type": "code",
      "metadata": {
        "colab": {
          "base_uri": "https://localhost:8080/"
        },
        "id": "Wg855F6ZuZZ_",
        "outputId": "9a713a49-da1a-4b9a-9088-5dc6113bdeb7"
      },
      "source": [
        "# get max number at every row of 2darray probabilities\n",
        "y_main_prob_max=np.amax(y_main_prob, axis=1)\n",
        "print(y_main_prob_max.shape)\n",
        "print(y_main_prob_max)"
      ],
      "execution_count": null,
      "outputs": [
        {
          "output_type": "stream",
          "text": [
            "(10000,)\n",
            "[0.9999875  0.99999976 0.99957055 ... 0.99999833 0.9999999  1.        ]\n"
          ],
          "name": "stdout"
        }
      ]
    },
    {
      "cell_type": "code",
      "metadata": {
        "colab": {
          "base_uri": "https://localhost:8080/"
        },
        "id": "PHUC8pXnvI8X",
        "outputId": "b4d963db-630d-4987-e934-ac413820a641"
      },
      "source": [
        "# truncate the array with max number below 0.9\n",
        "y_main_prob_max_ltzn=y_main_prob_max[y_main_prob_max<0.9]\n",
        "print(y_main_prob_max_ltzn.shape)\n",
        "print(y_main_prob_max_ltzn[::10])"
      ],
      "execution_count": null,
      "outputs": [
        {
          "output_type": "stream",
          "text": [
            "(428,)\n",
            "[0.8422257  0.4952199  0.87251544 0.6324504  0.8172887  0.7929689\n",
            " 0.67856073 0.36749363 0.8710863  0.7191839  0.5029904  0.846985\n",
            " 0.8924368  0.6199503  0.54898167 0.77710307 0.7160799  0.7466021\n",
            " 0.6589053  0.7940305  0.44962665 0.443617   0.86258197 0.8028253\n",
            " 0.58562714 0.5558388  0.75891054 0.7495589  0.724535   0.50584126\n",
            " 0.8681688  0.85472804 0.78948426 0.8691416  0.87894905 0.73538584\n",
            " 0.5383045  0.6692529  0.871922   0.764453   0.7182234  0.87619686\n",
            " 0.48731005]\n"
          ],
          "name": "stdout"
        }
      ]
    },
    {
      "cell_type": "code",
      "metadata": {
        "colab": {
          "base_uri": "https://localhost:8080/"
        },
        "id": "o2eOrEpMylc5",
        "outputId": "2c43c7a7-540b-49e4-c6df-1341bf0909a8"
      },
      "source": [
        "# get a number below 0.9 exactly\n",
        "y_main_prob_max_ltzn_e=y_main_prob_max_ltzn.max()\n",
        "print('A number, the maximum probability less than 0.9 exactly of mnist datatest, is ', y_main_prob_max_ltzn_e)\n",
        "y_main_result_index=np.where(y_main_prob_max==y_main_prob_max_ltzn_e)\n",
        "print('An Image with this maximum probability is at index: ', y_main_result_index[0])\n",
        "print('There was the probabilities data of that image: ', y_main_prob[y_main_result_index])\n",
        "print('This image shows number: ', np.argmax(y_main_prob[y_main_result_index]))\n",
        "print('This is the true result which is sourced from the y_test array: ', y_test[y_main_result_index], '(same)')"
      ],
      "execution_count": null,
      "outputs": [
        {
          "output_type": "stream",
          "text": [
            "A number, the maximum probability less than 0.9 exactly of mnist datatest, is  0.898873\n",
            "An Image with this maximum probability is at index:  [2534]\n",
            "There was the probabilities data of that image:  [[4.4647667e-12 3.6025219e-07 7.4430244e-07 8.9887297e-01 1.4813350e-08\n",
            "  1.0081474e-01 1.2438370e-10 1.4803528e-07 6.1861606e-06 3.0483547e-04]]\n",
            "This image shows number:  3\n",
            "This is the true result which is sourced from the y_test array:  [3] (same)\n"
          ],
          "name": "stdout"
        }
      ]
    },
    {
      "cell_type": "code",
      "metadata": {
        "colab": {
          "base_uri": "https://localhost:8080/"
        },
        "id": "VKCIknAa4j6N",
        "outputId": "9b7660d5-d05a-4108-cfdf-961d4be63469"
      },
      "source": [
        "# ASSIGNMENT 2 ANSWER (short step) - for x_test and y_test\n",
        "y_main_prob=tf.nn.softmax(model.predict(x_test)).numpy()\n",
        "y_main_prob_max=np.amax(y_main_prob, axis=1)\n",
        "y_main_prob_max_ltzn_e=y_main_prob_max[y_main_prob_max<0.9].max()\n",
        "y_main_result_index=np.where(y_main_prob_max==y_main_prob_max_ltzn_e)\n",
        "print('A number, the maximum probability less than 0.9 exactly of mnist datatest, is ', y_main_prob_max_ltzn_e)\n",
        "print('An Image with this maximum probability is at index: ', y_main_result_index[0])\n",
        "print('There was the probabilities data of that image: ', y_main_prob[y_main_result_index])\n",
        "print('This image shows number: ', np.argmax(y_main_prob[y_main_result_index]))\n",
        "print('This is the true result which is sourced from the y_test array: ', y_test[y_main_result_index], '(same)')"
      ],
      "execution_count": 67,
      "outputs": [
        {
          "output_type": "stream",
          "text": [
            "A number, the maximum probability less than 0.9 exactly of mnist datatest, is  0.898873\n",
            "An Image with this maximum probability is at index:  [2534]\n",
            "There was the probabilities data of that image:  [[4.4647667e-12 3.6025219e-07 7.4430244e-07 8.9887297e-01 1.4813350e-08\n",
            "  1.0081474e-01 1.2438370e-10 1.4803528e-07 6.1861606e-06 3.0483547e-04]]\n",
            "This image shows number:  3\n",
            "This is the true result which is sourced from the y_test array:  [3] (same)\n"
          ],
          "name": "stdout"
        }
      ]
    },
    {
      "cell_type": "code",
      "metadata": {
        "colab": {
          "base_uri": "https://localhost:8080/"
        },
        "id": "nbvUDClt_2JS",
        "outputId": "49ee78c0-af6b-49ff-f219-ef4f1595bc73"
      },
      "source": [
        "# ASSIGNMENT 2 ANSWER (short step) - for x_train and y_train\n",
        "y_main_prob=tf.nn.softmax(model.predict(x_train)).numpy()\n",
        "y_main_prob_max=np.amax(y_main_prob, axis=1)\n",
        "y_main_prob_max_ltzn_e=y_main_prob_max[y_main_prob_max<0.9].max()\n",
        "y_main_result_index=np.where(y_main_prob_max==y_main_prob_max_ltzn_e)\n",
        "print('A number, the maximum probability less than 0.9 exactly of mnist dataset, is ', y_main_prob_max_ltzn_e)\n",
        "print('An Image with this maximum probability is at index: ', y_main_result_index[0])\n",
        "print('There was the probabilities data of that image: ', y_main_prob[y_main_result_index])\n",
        "print('This image shows number: ', np.argmax(y_main_prob[y_main_result_index]))\n",
        "print('This is the true result which is sourced from the y_test array: ', y_train[y_main_result_index], '(same)')"
      ],
      "execution_count": 69,
      "outputs": [
        {
          "output_type": "stream",
          "text": [
            "A number, the maximum probability less than 0.9 exactly of mnist dataset, is  0.899903\n",
            "An Image with this maximum probability is at index:  [53042]\n",
            "There was the probabilities data of that image:  [[5.32179493e-15 7.91690091e-09 1.01967100e-06 8.99902999e-01\n",
            "  1.40116729e-11 1.00071646e-01 1.29784543e-13 1.77875226e-09\n",
            "  3.90902732e-09 2.41941470e-05]]\n",
            "This image shows number:  3\n",
            "This is the true result which is sourced from the y_test array:  [3] (same)\n"
          ],
          "name": "stdout"
        }
      ]
    }
  ]
}