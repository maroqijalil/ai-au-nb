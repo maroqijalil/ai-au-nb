{
  "nbformat": 4,
  "nbformat_minor": 0,
  "metadata": {
    "colab": {
      "name": "tf_helloworld.ipynb",
      "provenance": [],
      "collapsed_sections": [],
      "include_colab_link": true
    },
    "kernelspec": {
      "name": "python3",
      "display_name": "Python 3"
    },
    "accelerator": "GPU"
  },
  "cells": [
    {
      "cell_type": "markdown",
      "metadata": {
        "id": "view-in-github",
        "colab_type": "text"
      },
      "source": [
        "<a href=\"https://colab.research.google.com/github/maroqijalil/ai-au-nb/blob/main/tf_helloworld.ipynb\" target=\"_parent\"><img src=\"https://colab.research.google.com/assets/colab-badge.svg\" alt=\"Open In Colab\"/></a>"
      ]
    },
    {
      "cell_type": "code",
      "metadata": {
        "id": "YLmTr87Umteb"
      },
      "source": [
        "import tensorflow as tf"
      ],
      "execution_count": 1,
      "outputs": []
    },
    {
      "cell_type": "code",
      "metadata": {
        "id": "E2nYp5KCnHiH"
      },
      "source": [
        "mnist = tf.keras.datasets.mnist\n",
        "(x_train, y_train), (x_test, y_test) = mnist.load_data()\n",
        "x_train, x_test = x_train / 255.0, x_test / 255.0"
      ],
      "execution_count": 2,
      "outputs": []
    },
    {
      "cell_type": "code",
      "metadata": {
        "id": "TMSXCKX5YbiM",
        "colab": {
          "base_uri": "https://localhost:8080/"
        },
        "outputId": "fc6589a2-f859-4e59-a0b1-904188a0de2b"
      },
      "source": [
        "print(x_train.shape)\n",
        "print(y_train.shape)"
      ],
      "execution_count": 3,
      "outputs": [
        {
          "output_type": "stream",
          "text": [
            "(60000, 28, 28)\n",
            "(60000,)\n"
          ],
          "name": "stdout"
        }
      ]
    },
    {
      "cell_type": "code",
      "metadata": {
        "colab": {
          "base_uri": "https://localhost:8080/"
        },
        "id": "NZKhIdoq9vfS",
        "outputId": "db36dd96-59e3-4944-f219-6278a5165c88"
      },
      "source": [
        "print(x_test.shape)\n",
        "print(y_test.shape)"
      ],
      "execution_count": 4,
      "outputs": [
        {
          "output_type": "stream",
          "text": [
            "(10000, 28, 28)\n",
            "(10000,)\n"
          ],
          "name": "stdout"
        }
      ]
    },
    {
      "cell_type": "code",
      "metadata": {
        "id": "aNd7zMWmneL_"
      },
      "source": [
        "model = tf.keras.models.Sequential([\n",
        "  tf.keras.layers.Flatten(input_shape=(28, 28)),\n",
        "  tf.keras.layers.Dense(128, activation='relu'),\n",
        "  tf.keras.layers.Dropout(0.2),\n",
        "  tf.keras.layers.Dense(10)\n",
        "])"
      ],
      "execution_count": 5,
      "outputs": []
    },
    {
      "cell_type": "code",
      "metadata": {
        "id": "7RsnYBuanm33"
      },
      "source": [
        "loss_fn = tf.keras.losses.SparseCategoricalCrossentropy(from_logits=True)\n",
        "model.compile(optimizer='adam', loss=loss_fn, metrics=['accuracy'])"
      ],
      "execution_count": 6,
      "outputs": []
    },
    {
      "cell_type": "code",
      "metadata": {
        "id": "poefNKBVoDef",
        "colab": {
          "base_uri": "https://localhost:8080/"
        },
        "outputId": "46da17da-5c8c-4724-ce82-1e9ab23e2c24"
      },
      "source": [
        "model.fit(x_train, y_train, epochs=10)"
      ],
      "execution_count": 7,
      "outputs": [
        {
          "output_type": "stream",
          "text": [
            "Epoch 1/10\n",
            "1875/1875 [==============================] - 4s 2ms/step - loss: 0.4827 - accuracy: 0.8573\n",
            "Epoch 2/10\n",
            "1875/1875 [==============================] - 4s 2ms/step - loss: 0.1534 - accuracy: 0.9559\n",
            "Epoch 3/10\n",
            "1875/1875 [==============================] - 4s 2ms/step - loss: 0.1103 - accuracy: 0.9657\n",
            "Epoch 4/10\n",
            "1875/1875 [==============================] - 4s 2ms/step - loss: 0.0878 - accuracy: 0.9724\n",
            "Epoch 5/10\n",
            "1875/1875 [==============================] - 4s 2ms/step - loss: 0.0733 - accuracy: 0.9771\n",
            "Epoch 6/10\n",
            "1875/1875 [==============================] - 4s 2ms/step - loss: 0.0625 - accuracy: 0.9802\n",
            "Epoch 7/10\n",
            "1875/1875 [==============================] - 4s 2ms/step - loss: 0.0560 - accuracy: 0.9809\n",
            "Epoch 8/10\n",
            "1875/1875 [==============================] - 4s 2ms/step - loss: 0.0495 - accuracy: 0.9836\n",
            "Epoch 9/10\n",
            "1875/1875 [==============================] - 4s 2ms/step - loss: 0.0428 - accuracy: 0.9862\n",
            "Epoch 10/10\n",
            "1875/1875 [==============================] - 4s 2ms/step - loss: 0.0412 - accuracy: 0.9863\n"
          ],
          "name": "stdout"
        },
        {
          "output_type": "execute_result",
          "data": {
            "text/plain": [
              "<tensorflow.python.keras.callbacks.History at 0x7fc7d703a550>"
            ]
          },
          "metadata": {
            "tags": []
          },
          "execution_count": 7
        }
      ]
    },
    {
      "cell_type": "code",
      "metadata": {
        "id": "BRAInZ1AobI8",
        "colab": {
          "base_uri": "https://localhost:8080/"
        },
        "outputId": "50ebf5a7-5156-4015-f7ac-336f61f1cdb1"
      },
      "source": [
        "model.evaluate(x_test,  y_test)"
      ],
      "execution_count": 8,
      "outputs": [
        {
          "output_type": "stream",
          "text": [
            "313/313 [==============================] - 0s 1ms/step - loss: 0.0804 - accuracy: 0.9791\n"
          ],
          "name": "stdout"
        },
        {
          "output_type": "execute_result",
          "data": {
            "text/plain": [
              "[0.08043521642684937, 0.9790999889373779]"
            ]
          },
          "metadata": {
            "tags": []
          },
          "execution_count": 8
        }
      ]
    },
    {
      "cell_type": "code",
      "metadata": {
        "id": "yS2pqWVppr4Q",
        "colab": {
          "base_uri": "https://localhost:8080/",
          "height": 62
        },
        "outputId": "2a0528c4-0bbd-40d5-9aeb-76b75e2cf3b9"
      },
      "source": [
        "from PIL import Image\n",
        "from IPython.display import display\n",
        "\n",
        "img=Image.open(\"Digit4.bmp\")\n",
        "print(img.format, img.size, img.mode)\n",
        "display(img)"
      ],
      "execution_count": 9,
      "outputs": [
        {
          "output_type": "stream",
          "text": [
            "BMP (28, 28) P\n"
          ],
          "name": "stdout"
        },
        {
          "output_type": "display_data",
          "data": {
            "image/png": "[encoded data removed]",
            "text/plain": [
              "<PIL.BmpImagePlugin.BmpImageFile image mode=P size=28x28 at 0x7FC7D49DA860>"
            ]
          },
          "metadata": {
            "tags": []
          }
        }
      ]
    },
    {
      "cell_type": "code",
      "metadata": {
        "colab": {
          "base_uri": "https://localhost:8080/"
        },
        "id": "baZ_Ly_uEXFH",
        "outputId": "88de2a25-29c5-4b4c-89e7-b9812e7c240a"
      },
      "source": [
        "import numpy as np\n",
        "\n",
        "# get the image and cast it to 2darray\n",
        "img=np.resize(img, (28,28))\n",
        "im2arr=np.array(img)\n",
        "im2arr=im2arr.reshape(1, 28, 28)\n",
        "print(im2arr)"
      ],
      "execution_count": 10,
      "outputs": [
        {
          "output_type": "stream",
          "text": [
            "[[[  0   0   0   0   0   0   0   0   0   0   0   0   0   0   0   0   0\n",
            "     0   0   0   0   0   0   0   0   0   0   0]\n",
            "  [  0   0   0   0   0   0   0   0   0   0   0   0   0 255 255   0   0\n",
            "     0   0   0   0   0   0   0   0   0   0   0]\n",
            "  [  0   0   0   0   0   0   0   0   0   0   0   0   0 255 255   0   0\n",
            "     0   0   0   0   0   0   0   0   0   0   0]\n",
            "  [  0   0   0   0   0   0   0   0   0   0   0   0   0 255 255   0   0\n",
            "     0   0   0   0   0   0   0   0   0   0   0]\n",
            "  [  0   0   0   0   0   0   0   0   0   0   0   0   0 255 255   0   0\n",
            "     0   0   0   0   0   0   0   0   0   0   0]\n",
            "  [  0   0   0   0   0   0   0   0   0   0   0   0   0 255 255   0   0\n",
            "     0   0   0   0   0   0   0   0   0   0   0]\n",
            "  [  0   0   0   0   0   0   0   0   0   0   0   0 255 255 255   0   0\n",
            "     0   0   0   0   0   0   0   0   0   0   0]\n",
            "  [  0   0   0   0   0   0   0   0   0   0   0   0 255 255   0   0   0\n",
            "     0   0   0   0   0   0   0   0   0   0   0]\n",
            "  [  0   0   0   0   0   0   0   0   0   0   0 255 255 255   0   0   0\n",
            "   255 255   0   0   0   0   0   0   0   0   0]\n",
            "  [  0   0   0   0   0   0   0   0   0   0 255 255 255   0   0   0   0\n",
            "   255 255   0   0   0   0   0   0   0   0   0]\n",
            "  [  0   0   0   0   0   0   0   0   0   0 255 255   0   0   0   0   0\n",
            "   255 255   0   0   0   0   0   0   0   0   0]\n",
            "  [  0   0   0   0   0   0   0   0   0 255 255 255   0   0   0   0   0\n",
            "   255 255 255   0   0   0   0   0   0   0   0]\n",
            "  [  0   0   0   0   0   0   0   0 255 255 255   0   0   0   0   0   0\n",
            "     0 255 255   0   0   0   0   0   0   0   0]\n",
            "  [  0   0   0   0   0   0   0 255 255 255   0   0   0   0   0   0   0\n",
            "     0 255 255   0   0   0   0   0   0   0   0]\n",
            "  [  0   0   0   0   0   0   0 255 255   0   0   0   0   0   0   0   0\n",
            "     0 255 255   0   0   0   0   0   0   0   0]\n",
            "  [  0   0   0   0   0   0 255 255 255   0   0   0   0   0   0   0   0\n",
            "   255 255 255   0   0   0   0   0   0   0   0]\n",
            "  [  0   0   0   0   0   0 255 255   0   0   0   0   0   0 255 255 255\n",
            "   255 255 255 255 255 255   0   0   0   0   0]\n",
            "  [  0   0   0   0   0 255 255 255 255 255 255 255 255 255 255 255 255\n",
            "   255 255 255 255 255 255 255   0   0   0   0]\n",
            "  [  0   0   0   0   0 255 255 255 255 255 255 255 255 255 255   0   0\n",
            "   255 255   0   0   0   0   0   0   0   0   0]\n",
            "  [  0   0   0   0   0   0   0   0   0   0   0   0   0   0   0   0   0\n",
            "   255 255   0   0   0   0   0   0   0   0   0]\n",
            "  [  0   0   0   0   0   0   0   0   0   0   0   0   0   0   0   0   0\n",
            "   255 255   0   0   0   0   0   0   0   0   0]\n",
            "  [  0   0   0   0   0   0   0   0   0   0   0   0   0   0   0   0   0\n",
            "   255 255   0   0   0   0   0   0   0   0   0]\n",
            "  [  0   0   0   0   0   0   0   0   0   0   0   0   0   0   0   0 255\n",
            "   255 255   0   0   0   0   0   0   0   0   0]\n",
            "  [  0   0   0   0   0   0   0   0   0   0   0   0   0   0   0   0 255\n",
            "   255   0   0   0   0   0   0   0   0   0   0]\n",
            "  [  0   0   0   0   0   0   0   0   0   0   0   0   0   0   0   0 255\n",
            "   255   0   0   0   0   0   0   0   0   0   0]\n",
            "  [  0   0   0   0   0   0   0   0   0   0   0   0   0   0   0   0 255\n",
            "   255   0   0   0   0   0   0   0   0   0   0]\n",
            "  [  0   0   0   0   0   0   0   0   0   0   0   0   0   0   0   0   0\n",
            "     0   0   0   0   0   0   0   0   0   0   0]\n",
            "  [  0   0   0   0   0   0   0   0   0   0   0   0   0   0   0   0   0\n",
            "     0   0   0   0   0   0   0   0   0   0   0]]]\n"
          ],
          "name": "stdout"
        }
      ]
    },
    {
      "cell_type": "code",
      "metadata": {
        "colab": {
          "base_uri": "https://localhost:8080/"
        },
        "id": "j4OZQiZsEn4R",
        "outputId": "e79bdefe-c9e8-49e5-b94c-81381f8ef181"
      },
      "source": [
        "# try to predict the input image\n",
        "y_pred=model.predict(im2arr)\n",
        "print(y_pred)\n",
        "y_prob=tf.nn.softmax(y_pred).numpy()\n",
        "print(y_prob)"
      ],
      "execution_count": 11,
      "outputs": [
        {
          "output_type": "stream",
          "text": [
            "[[ -561.2372 -3574.8293 -1403.0375 -3462.9924  1758.8768 -2155.1226\n",
            "   1073.8829  -586.708  -4558.5728  -187.2327]]\n",
            "[[0. 0. 0. 0. 1. 0. 0. 0. 0. 0.]]\n"
          ],
          "name": "stdout"
        }
      ]
    },
    {
      "cell_type": "code",
      "metadata": {
        "colab": {
          "base_uri": "https://localhost:8080/"
        },
        "id": "Uli5xLkXFC9Y",
        "outputId": "c4702224-7df3-4b90-a401-14b32342153d"
      },
      "source": [
        "# show the result number\n",
        "y_hat=np.argmax(y_pred)\n",
        "print(y_hat)"
      ],
      "execution_count": 12,
      "outputs": [
        {
          "output_type": "stream",
          "text": [
            "4\n"
          ],
          "name": "stdout"
        }
      ]
    },
    {
      "cell_type": "code",
      "metadata": {
        "colab": {
          "base_uri": "https://localhost:8080/"
        },
        "id": "ci7DKjnQZUrZ",
        "outputId": "78550c5c-6206-42e7-da9c-582a72e0f25a"
      },
      "source": [
        "# try to get the porbability of sample dataset\n",
        "pred=model(x_train[:2]).numpy()\n",
        "print(pred)"
      ],
      "execution_count": 13,
      "outputs": [
        {
          "output_type": "stream",
          "text": [
            "[[-18.504892  -12.904238  -11.961631    9.2340145 -42.472878   19.27864\n",
            "  -25.480484  -16.087059  -18.526884   -3.5856209]\n",
            " [ 15.654468  -12.6540365   2.1031542 -10.256048  -17.764257   -1.24439\n",
            "   -3.275316   -5.83608   -11.158866   -6.0776343]]\n"
          ],
          "name": "stdout"
        }
      ]
    },
    {
      "cell_type": "code",
      "metadata": {
        "colab": {
          "base_uri": "https://localhost:8080/"
        },
        "id": "lQ7JtxjNqDzV",
        "outputId": "ce7cbde0-7a30-460d-c3a3-dfa50d33e192"
      },
      "source": [
        "# try to get the porbability of sample datatest\n",
        "y_test1=model.predict(x_test[:1])\n",
        "print(y_test1)\n",
        "y_hat1=np.argmax(y_test1)\n",
        "print(y_hat1)\n",
        "print(y_test[:1])\n",
        "y_prob1=tf.nn.softmax(y_test1).numpy()\n",
        "print(y_prob1.max())\n",
        "y_hat_prob1=np.argmax(y_prob1)\n",
        "print(y_hat_prob1)"
      ],
      "execution_count": 14,
      "outputs": [
        {
          "output_type": "stream",
          "text": [
            "[[ -8.495176  -10.381171   -2.1446269  -2.42132   -13.895821   -8.341786\n",
            "  -24.26599    14.231869   -8.665311   -2.4292538]]\n",
            "7\n",
            "[7]\n",
            "0.9999999\n",
            "7\n"
          ],
          "name": "stdout"
        }
      ]
    },
    {
      "cell_type": "code",
      "metadata": {
        "colab": {
          "base_uri": "https://localhost:8080/"
        },
        "id": "6UEvabkYrobQ",
        "outputId": "0c9a0020-6477-44c3-ebd1-729987cd753a"
      },
      "source": [
        "# ASSIGNMENT 2 ANSWER (start from this row until end)\n",
        "# get each predictions in 2darray result of mnist datatest\n",
        "y_main_pred=model.predict(x_test)\n",
        "print(y_main_pred.shape)\n",
        "print(y_main_pred)"
      ],
      "execution_count": 15,
      "outputs": [
        {
          "output_type": "stream",
          "text": [
            "(10000, 10)\n",
            "[[ -8.495176  -10.381173   -2.1446252 ...  14.231869   -8.665309\n",
            "   -2.4292548]\n",
            " [ -4.7407317   2.3016026  15.828068  ... -24.086737   -8.9227915\n",
            "  -36.034195 ]\n",
            " [-10.319651    9.058503   -2.7397475 ...  -1.1834022  -4.4642067\n",
            "   -7.8175282]\n",
            " ...\n",
            " [-17.982948  -10.597352  -14.050376  ...  -0.7023014  -5.9923024\n",
            "    2.8302271]\n",
            " [-11.008237  -13.0165415 -11.04963   ...  -4.05383     1.3226099\n",
            "  -17.825619 ]\n",
            " [ -5.382392  -10.056295    1.5012918 ... -28.346066  -10.597004\n",
            "  -12.337271 ]]\n"
          ],
          "name": "stdout"
        }
      ]
    },
    {
      "cell_type": "code",
      "metadata": {
        "colab": {
          "base_uri": "https://localhost:8080/"
        },
        "id": "YGVwyqaFt_bT",
        "outputId": "88c99d60-66be-4373-db6a-4c779fb6aa26"
      },
      "source": [
        "# get each probabilities of 2darray predictions\n",
        "y_main_prob=tf.nn.softmax(y_main_pred).numpy()\n",
        "print(y_main_prob.shape)\n",
        "print(y_main_prob)"
      ],
      "execution_count": 16,
      "outputs": [
        {
          "output_type": "stream",
          "text": [
            "(10000, 10)\n",
            "[[1.34824776e-10 2.04499456e-11 7.72287905e-08 ... 9.99999881e-01\n",
            "  1.13731725e-10 5.80986530e-08]\n",
            " [1.16703269e-09 1.33515005e-06 9.99998450e-01 ... 4.62616267e-18\n",
            "  1.78171471e-11 2.99574504e-23]\n",
            " [3.83836163e-09 9.99934554e-01 7.51720927e-06 ... 3.56425444e-05\n",
            "  1.34008803e-06 4.68601939e-08]\n",
            " ...\n",
            " [5.00559287e-15 8.07197191e-12 2.55475681e-13 ... 1.60083019e-07\n",
            "  8.07099498e-10 5.47649461e-06]\n",
            " [5.51330986e-12 7.39974596e-13 5.28975431e-12 ... 5.77660764e-09\n",
            "  1.24919757e-06 6.03476967e-15]\n",
            " [4.05093181e-11 3.78184788e-13 3.95457818e-08 ... 4.31079118e-21\n",
            "  2.20230423e-13 3.86446212e-14]]\n"
          ],
          "name": "stdout"
        }
      ]
    },
    {
      "cell_type": "code",
      "metadata": {
        "colab": {
          "base_uri": "https://localhost:8080/"
        },
        "id": "Wg855F6ZuZZ_",
        "outputId": "af99e069-d242-4eec-92f2-bb4ce406f16d"
      },
      "source": [
        "# get max number at every row of 2darray probabilities\n",
        "y_main_prob_max=np.amax(y_main_prob, axis=1)\n",
        "print(y_main_prob_max.shape)\n",
        "print(y_main_prob_max)"
      ],
      "execution_count": 17,
      "outputs": [
        {
          "output_type": "stream",
          "text": [
            "(10000,)\n",
            "[0.9999999  0.99999845 0.99993455 ... 0.9999944  0.9999988  1.        ]\n"
          ],
          "name": "stdout"
        }
      ]
    },
    {
      "cell_type": "code",
      "metadata": {
        "colab": {
          "base_uri": "https://localhost:8080/"
        },
        "id": "PHUC8pXnvI8X",
        "outputId": "85afa47f-7858-4c81-abe0-cebb1a8c1447"
      },
      "source": [
        "# truncate the array with max number below 0.9\n",
        "y_main_prob_max_ltzn=y_main_prob_max[y_main_prob_max<0.9]\n",
        "print(y_main_prob_max_ltzn.shape)\n",
        "print(y_main_prob_max_ltzn[::10])"
      ],
      "execution_count": 18,
      "outputs": [
        {
          "output_type": "stream",
          "text": [
            "(399,)\n",
            "[0.68350726 0.8027152  0.7262667  0.8343919  0.56694615 0.7121583\n",
            " 0.86550313 0.7564094  0.6696668  0.7122356  0.7778299  0.8487009\n",
            " 0.63730866 0.87807095 0.7973221  0.7963725  0.81848246 0.8072188\n",
            " 0.658969   0.7438347  0.6921754  0.66864365 0.8730867  0.7740192\n",
            " 0.6968981  0.51057917 0.46875307 0.70520985 0.696145   0.6671906\n",
            " 0.58393383 0.83141196 0.30407792 0.8736064  0.829422   0.8832562\n",
            " 0.8624875  0.8994038  0.8340536  0.8366258 ]\n"
          ],
          "name": "stdout"
        }
      ]
    },
    {
      "cell_type": "code",
      "metadata": {
        "colab": {
          "base_uri": "https://localhost:8080/"
        },
        "id": "o2eOrEpMylc5",
        "outputId": "5aa63678-85b0-404a-b8fc-2b0c79ece54e"
      },
      "source": [
        "# get a number below 0.9 exactly\n",
        "y_main_prob_max_ltzn_e=y_main_prob_max_ltzn.max()\n",
        "print('A number, the maximum probability less than 0.9 exactly of mnist datatest, is ', y_main_prob_max_ltzn_e)\n",
        "y_main_result_index=np.where(y_main_prob_max==y_main_prob_max_ltzn_e)\n",
        "print('An Image with this maximum probability is at index: ', y_main_result_index[0])\n",
        "print('There was the probabilities data of that image: ', y_main_prob[y_main_result_index])\n",
        "print('This image shows number: ', np.argmax(y_main_prob[y_main_result_index]))\n",
        "print('This is the true result which is sourced from the y_test array: ', y_test[y_main_result_index], '(same)')"
      ],
      "execution_count": 19,
      "outputs": [
        {
          "output_type": "stream",
          "text": [
            "A number, the maximum probability less than 0.9 exactly of mnist datatest, is  0.8999932\n",
            "An Image with this maximum probability is at index:  [7713]\n",
            "There was the probabilities data of that image:  [[4.8079573e-07 1.8896171e-13 4.4540781e-07 1.6392154e-07 9.0371747e-12\n",
            "  9.9995330e-02 2.8178076e-07 6.3528556e-09 8.9999318e-01 1.0077239e-05]]\n",
            "This image shows number:  8\n",
            "This is the true result which is sourced from the y_test array:  [8] (same)\n"
          ],
          "name": "stdout"
        }
      ]
    },
    {
      "cell_type": "code",
      "metadata": {
        "colab": {
          "base_uri": "https://localhost:8080/"
        },
        "id": "VKCIknAa4j6N",
        "outputId": "34de6aa4-ffd2-4535-d2c3-6da2d45aeef1"
      },
      "source": [
        "# RUN THIS FIRST!!!\n",
        "import numpy as np\n",
        "import tensorflow as tf\n",
        "\n",
        "mnist = tf.keras.datasets.mnist\n",
        "(x_train, y_train), (x_test, y_test) = mnist.load_data()\n",
        "x_train, x_test = x_train / 255.0, x_test / 255.0\n",
        "\n",
        "model = tf.keras.models.Sequential([\n",
        "  tf.keras.layers.Flatten(input_shape=(28, 28)),\n",
        "  tf.keras.layers.Dense(128, activation='relu'),\n",
        "  tf.keras.layers.Dropout(0.2),\n",
        "  tf.keras.layers.Dense(10)\n",
        "])\n",
        "\n",
        "loss_fn = tf.keras.losses.SparseCategoricalCrossentropy(from_logits=True)\n",
        "model.compile(optimizer='adam', loss=loss_fn, metrics=['accuracy'])\n",
        "\n",
        "model.fit(x_train, y_train, epochs=10)\n",
        "model.evaluate(x_test,  y_test)"
      ],
      "execution_count": 20,
      "outputs": [
        {
          "output_type": "stream",
          "text": [
            "Epoch 1/10\n",
            "1875/1875 [==============================] - 4s 2ms/step - loss: 0.4778 - accuracy: 0.8600\n",
            "Epoch 2/10\n",
            "1875/1875 [==============================] - 4s 2ms/step - loss: 0.1532 - accuracy: 0.9562\n",
            "Epoch 3/10\n",
            "1875/1875 [==============================] - 4s 2ms/step - loss: 0.1071 - accuracy: 0.9680\n",
            "Epoch 4/10\n",
            "1875/1875 [==============================] - 4s 2ms/step - loss: 0.0877 - accuracy: 0.9732\n",
            "Epoch 5/10\n",
            "1875/1875 [==============================] - 4s 2ms/step - loss: 0.0708 - accuracy: 0.9777\n",
            "Epoch 6/10\n",
            "1875/1875 [==============================] - 4s 2ms/step - loss: 0.0618 - accuracy: 0.9809\n",
            "Epoch 7/10\n",
            "1875/1875 [==============================] - 4s 2ms/step - loss: 0.0578 - accuracy: 0.9810\n",
            "Epoch 8/10\n",
            "1875/1875 [==============================] - 4s 2ms/step - loss: 0.0534 - accuracy: 0.9830\n",
            "Epoch 9/10\n",
            "1875/1875 [==============================] - 4s 2ms/step - loss: 0.0462 - accuracy: 0.9849\n",
            "Epoch 10/10\n",
            "1875/1875 [==============================] - 4s 2ms/step - loss: 0.0414 - accuracy: 0.9866\n",
            "313/313 [==============================] - 0s 1ms/step - loss: 0.0714 - accuracy: 0.9794\n"
          ],
          "name": "stdout"
        },
        {
          "output_type": "execute_result",
          "data": {
            "text/plain": [
              "[0.07138759642839432, 0.9793999791145325]"
            ]
          },
          "metadata": {
            "tags": []
          },
          "execution_count": 20
        }
      ]
    },
    {
      "cell_type": "code",
      "metadata": {
        "colab": {
          "base_uri": "https://localhost:8080/"
        },
        "id": "HRjysMAtN4y5",
        "outputId": "85c7ebb8-7606-4339-e3c2-a1274d583151"
      },
      "source": [
        "# ASSIGNMENT 2 ANSWER (short step) - for x_test and y_test\n",
        "y_main_prob=tf.nn.softmax(model.predict(x_test)).numpy()\n",
        "y_main_prob_max=np.amax(y_main_prob, axis=1)\n",
        "y_main_prob_max_ltzn_e=y_main_prob_max[y_main_prob_max<0.9].max()\n",
        "y_main_result_index=np.where(y_main_prob_max==y_main_prob_max_ltzn_e)\n",
        "print('A number, the maximum probability less than 0.9 exactly of mnist datatest, is ', y_main_prob_max_ltzn_e)\n",
        "print('An Image with this maximum probability is at index: ', y_main_result_index[0])\n",
        "print('There was the probabilities data of that image: ', y_main_prob[y_main_result_index])\n",
        "print('This image shows number: ', np.argmax(y_main_prob[y_main_result_index]))\n",
        "print('This is the true result which is sourced from the y_test array: ', y_test[y_main_result_index], '(same)')"
      ],
      "execution_count": 21,
      "outputs": [
        {
          "output_type": "stream",
          "text": [
            "A number, the maximum probability less than 0.9 exactly of mnist datatest, is  0.8999601\n",
            "An Image with this maximum probability is at index:  [9808]\n",
            "There was the probabilities data of that image:  [[7.6243495e-10 6.0940438e-06 1.6890866e-08 1.8335832e-05 9.8047867e-02\n",
            "  2.5361551e-05 2.6754274e-11 1.9421098e-03 7.9114002e-08 8.9996010e-01]]\n",
            "This image shows number:  9\n",
            "This is the true result which is sourced from the y_test array:  [9] (same)\n"
          ],
          "name": "stdout"
        }
      ]
    },
    {
      "cell_type": "code",
      "metadata": {
        "colab": {
          "base_uri": "https://localhost:8080/"
        },
        "id": "nbvUDClt_2JS",
        "outputId": "31641be1-6ba4-445b-e8f5-27dd97a1633d"
      },
      "source": [
        "# ASSIGNMENT 2 ANSWER (short step) - for x_train and y_train\n",
        "y_main_prob=tf.nn.softmax(model.predict(x_train)).numpy()\n",
        "y_main_prob_max=np.amax(y_main_prob, axis=1)\n",
        "y_main_prob_max_ltzn_e=y_main_prob_max[y_main_prob_max<0.9].max()\n",
        "y_main_result_index=np.where(y_main_prob_max==y_main_prob_max_ltzn_e)\n",
        "print('A number, the maximum probability less than 0.9 exactly of mnist dataset, is ', y_main_prob_max_ltzn_e)\n",
        "print('An Image with this maximum probability is at index: ', y_main_result_index[0])\n",
        "print('There was the probabilities data of that image: ', y_main_prob[y_main_result_index])\n",
        "print('This image shows number: ', np.argmax(y_main_prob[y_main_result_index]))\n",
        "print('This is the true result which is sourced from the y_test array: ', y_train[y_main_result_index], '(same)')"
      ],
      "execution_count": 22,
      "outputs": [
        {
          "output_type": "stream",
          "text": [
            "A number, the maximum probability less than 0.9 exactly of mnist dataset, is  0.8999966\n",
            "An Image with this maximum probability is at index:  [37417]\n",
            "There was the probabilities data of that image:  [[1.03760205e-04 7.24329147e-03 6.78072392e-04 9.13980678e-02\n",
            "  1.32220068e-09 2.29702937e-06 5.64320908e-06 8.69699875e-07\n",
            "  8.99996579e-01 5.71454526e-04]]\n",
            "This image shows number:  8\n",
            "This is the true result which is sourced from the y_test array:  [8] (same)\n"
          ],
          "name": "stdout"
        }
      ]
    },
    {
      "cell_type": "code",
      "metadata": {
        "colab": {
          "base_uri": "https://localhost:8080/",
          "height": 45
        },
        "id": "x80YpheD7q8-",
        "outputId": "baa466a8-7225-4d3f-d34e-0096e8430272"
      },
      "source": [
        "img = Image.fromarray(x_test[9])\n",
        "img = img.convert(\"RGB\")\n",
        "display(img)"
      ],
      "execution_count": 27,
      "outputs": [
        {
          "output_type": "display_data",
          "data": {
            "image/png": "[encoded data removed]",
            "text/plain": [
              "<PIL.Image.Image image mode=RGB size=28x28 at 0x7FC7C9CE1D68>"
            ]
          },
          "metadata": {
            "tags": []
          }
        }
      ]
    },
    {
      "cell_type": "code",
      "metadata": {
        "id": "pIgv1a-TAHez"
      },
      "source": [
        ""
      ],
      "execution_count": null,
      "outputs": []
    }
  ]
}